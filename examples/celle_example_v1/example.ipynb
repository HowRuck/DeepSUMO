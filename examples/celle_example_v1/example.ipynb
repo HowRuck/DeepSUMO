{
 "cells": [
  {
   "cell_type": "markdown",
   "metadata": {
    "collapsed": false
   },
   "source": [
    "## Before proceeding please download the simulations trip files from https://sync.academiccloud.de/index.php/s/0FqlsyTD8BvQDtl, and extract them into ./config as they are too large to be hosted directly on GitHub"
   ]
  },
  {
   "cell_type": "code",
   "execution_count": 1,
   "metadata": {
    "collapsed": true,
    "ExecuteTime": {
     "end_time": "2023-08-23T10:33:33.357148898Z",
     "start_time": "2023-08-23T10:33:28.619247740Z"
    }
   },
   "outputs": [],
   "source": [
    "import numpy as np\n",
    "\n",
    "from src.simulation.sim_core import simulation_core\n",
    "from src.torch_geo.dataset.adaptive_speed2vec_dataset import adaptive_speed2vec_dataset\n",
    "from src.generator.detector_node_connector import distance_connector_strategy\n",
    "from src.simulation.modules.progress_module import progress_module\n",
    "from src.simulation.modules.simulationFlowControlModule import simulationFlowControlModule\n",
    "from src.torch_geo.model.trainer import model_train\n",
    "from src.utils.math_utils import un_z_score\n",
    "\n",
    "from torch_geometric.loader import DataLoader\n",
    "from matplotlib import pyplot as plt\n",
    "import torch, random, sumolib, traci"
   ]
  },
  {
   "cell_type": "markdown",
   "metadata": {
    "collapsed": false
   },
   "source": [
    "Create and set up settings"
   ]
  },
  {
   "cell_type": "code",
   "execution_count": 2,
   "metadata": {
    "collapsed": false,
    "ExecuteTime": {
     "end_time": "2023-08-23T10:33:35.392595471Z",
     "start_time": "2023-08-23T10:33:35.389975836Z"
    }
   },
   "outputs": [],
   "source": [
    "settings: dict = {\n",
    "    # ----- framework settings -----\n",
    "    \"sumo_exec_path\": \"<path>\",\n",
    "    \"sumo_config_path\": \"./config/osm.sumocfg\",\n",
    "    \"sumo_net_path\": \"./config/osm.net.xml.gz\",\n",
    "\n",
    "    # one day: 86400\n",
    "    # one week: 604800\n",
    "    # 777600\n",
    "    # one month: 2419200\n",
    "    \"sim_length\": 86400,  # total length of the simulation\n",
    "    \"interval_length\": 300,  # size of one aggregation step\n",
    "\n",
    "    # ----- model settings -----\n",
    "    \"N_HIST\": 12,  # for Speed2Vec dataset, number of preceding steps\n",
    "    \"N_PRED\": 9,  # for Speed2Vec dataset, number of prediction steps\n",
    "    'WEIGHT_DECAY': 5e-5,\n",
    "    'INITIAL_LR': 3e-4,\n",
    "    'DROPOUT': 0.6,\n",
    "    'CHECKPOINT_DIR': './runs',\n",
    "\n",
    "    'BATCH_SIZE': 50,\n",
    "    'EPOCHS': 60,\n",
    "    'N_NODE': 274\n",
    "}\n",
    "settings[\"total_graphs\"] = int(settings[\"sim_length\"]) // int(settings[\"interval_length\"])"
   ]
  },
  {
   "cell_type": "markdown",
   "metadata": {
    "collapsed": false
   },
   "source": [
    "Create simulation core object and add observers"
   ]
  },
  {
   "cell_type": "code",
   "execution_count": 3,
   "metadata": {
    "collapsed": false,
    "ExecuteTime": {
     "end_time": "2023-08-23T10:33:55.236039613Z",
     "start_time": "2023-08-23T10:33:37.318224768Z"
    }
   },
   "outputs": [
    {
     "name": "stdout",
     "output_type": "stream",
     "text": [
      " Retrying in 1 seconds\n",
      "***Starting server on port 55089 ***\n"
     ]
    },
    {
     "name": "stderr",
     "output_type": "stream",
     "text": [
      "Warning: Environment variable SUMO_HOME is not set properly, disabling XML validation. Set 'auto' or 'always' for web lookups.\n"
     ]
    },
    {
     "name": "stdout",
     "output_type": "stream",
     "text": [
      "Loading net-file from './config/osm.net.xml.gz' ... done (227ms).\n",
      "Loading additional-files from './config/osm.poly.xml.gz' ... done (33ms).\n",
      "Loading additional-files from './config/detectors_filtered.xml' ... done (11ms).\n",
      "Loading done.\n",
      "Simulation version 1.18.0 started with time: 0.00.\n",
      "[Translation Generator] - Generating dictionaries...\n",
      "[Translation Controller] - Successfully initialized!\n",
      "[Detector Graph Controller] - Generating graph, this can take a while...\n",
      "[Detector Graph Controller] - Graph complete! Nodes: 274 Edges: 2338\n",
      "[Numpy Graph Store] - Created node features: (288, 274)\n",
      "[Numpy Graph Store] - Created edge index: (2, 2338)\n",
      "[Numpy Graph Store] - Successfully initialized!\n",
      "[Numpy Graph Controller] - Initialized!\n",
      "0\n"
     ]
    }
   ],
   "source": [
    "core = simulation_core(settings, distance_connector_strategy(50))\n",
    "\n",
    "observer_1 = progress_module(settings[\"sim_length\"] // 100)\n",
    "observer_2 = simulationFlowControlModule(60)\n",
    "\n",
    "core.add_continuous_observer(observer_1)\n",
    "core.add_continuous_observer(observer_2)"
   ]
  },
  {
   "cell_type": "markdown",
   "metadata": {
    "collapsed": false
   },
   "source": [
    "Start simulation"
   ]
  },
  {
   "cell_type": "code",
   "execution_count": 4,
   "metadata": {
    "collapsed": false,
    "ExecuteTime": {
     "end_time": "2023-08-23T10:34:22.962733154Z",
     "start_time": "2023-08-23T10:34:02.373113555Z"
    }
   },
   "outputs": [
    {
     "name": "stdout",
     "output_type": "stream",
     "text": [
      "----- 2 % -----\n",
      "sim_step: 1729.0\n",
      "last_sim_time: 0.17 seconds\n",
      "scale: 0.19754804524328284\n",
      "ETA: 0.28 minutes\n",
      "----- 3 % -----\n",
      "sim_step: 2593.0\n",
      "last_sim_time: 0.18 seconds\n",
      "scale: 0.11074689332440327\n",
      "ETA: 0.28 minutes\n",
      "----- 4 % -----\n",
      "sim_step: 3457.0\n",
      "last_sim_time: 0.13 seconds\n",
      "scale: 0.11104406464552675\n",
      "ETA: 0.26 minutes\n",
      "-----DONG, DONG, DONG-----\n",
      "Passed one hour!\n",
      "Day: 0 Hour: 1\n",
      "Flow between 0.1 and 0.2\n",
      "----- 5 % -----\n",
      "sim_step: 4321.0\n",
      "last_sim_time: 0.13 seconds\n",
      "scale: 0.17336401565395018\n",
      "ETA: 0.24 minutes\n",
      "----- 6 % -----\n",
      "sim_step: 5185.0\n",
      "last_sim_time: 0.14 seconds\n",
      "scale: 0.18682011520258882\n",
      "ETA: 0.23 minutes\n",
      "----- 7 % -----\n",
      "sim_step: 6049.0\n",
      "last_sim_time: 0.12 seconds\n",
      "scale: 0.17287979375362\n",
      "ETA: 0.23 minutes\n",
      "----- 8 % -----\n",
      "sim_step: 6913.0\n",
      "last_sim_time: 0.13 seconds\n",
      "scale: 0.11761607560162556\n",
      "ETA: 0.22 minutes\n",
      "-----DONG, DONG, DONG-----\n",
      "Passed one hour!\n",
      "Day: 0 Hour: 2\n",
      "Flow between 0.1 and 0.2\n",
      "----- 9 % -----\n",
      "sim_step: 7777.0\n",
      "last_sim_time: 0.11 seconds\n",
      "scale: 0.17995060138245722\n",
      "ETA: 0.21 minutes\n",
      "----- 10 % -----\n",
      "sim_step: 8641.0\n",
      "last_sim_time: 0.13 seconds\n",
      "scale: 0.11157389768465982\n",
      "ETA: 0.21 minutes\n",
      "----- 11 % -----\n",
      "sim_step: 9505.0\n",
      "last_sim_time: 0.12 seconds\n",
      "scale: 0.19293094487382942\n",
      "ETA: 0.2 minutes\n",
      "----- 12 % -----\n",
      "sim_step: 10369.0\n",
      "last_sim_time: 0.13 seconds\n",
      "scale: 0.17463224359736107\n",
      "ETA: 0.2 minutes\n",
      "-----DONG, DONG, DONG-----\n",
      "Passed one hour!\n",
      "Day: 0 Hour: 3\n",
      "Flow between 0.1 and 0.2\n",
      "----- 13 % -----\n",
      "sim_step: 11233.0\n",
      "last_sim_time: 0.13 seconds\n",
      "scale: 0.17456841043083576\n",
      "ETA: 0.2 minutes\n",
      "----- 14 % -----\n",
      "sim_step: 12097.0\n",
      "last_sim_time: 0.13 seconds\n",
      "scale: 0.1444723167274828\n",
      "ETA: 0.19 minutes\n",
      "----- 15 % -----\n",
      "sim_step: 12961.0\n",
      "last_sim_time: 0.13 seconds\n",
      "scale: 0.14209243740019853\n",
      "ETA: 0.19 minutes\n",
      "----- 16 % -----\n",
      "sim_step: 13825.0\n",
      "last_sim_time: 0.12 seconds\n",
      "scale: 0.12605225211731436\n",
      "ETA: 0.19 minutes\n",
      "-----DONG, DONG, DONG-----\n",
      "Passed one hour!\n",
      "Day: 0 Hour: 4\n",
      "Flow between 0.1 and 0.2\n",
      "----- 17 % -----\n",
      "sim_step: 14689.0\n",
      "last_sim_time: 0.1 seconds\n",
      "scale: 0.1341853859798075\n",
      "ETA: 0.18 minutes\n",
      "----- 18 % -----\n",
      "sim_step: 15553.0\n",
      "last_sim_time: 0.12 seconds\n",
      "scale: 0.19181295050449726\n",
      "ETA: 0.18 minutes\n",
      "----- 19 % -----\n",
      "sim_step: 16417.0\n",
      "last_sim_time: 0.13 seconds\n",
      "scale: 0.15752004619728824\n",
      "ETA: 0.18 minutes\n",
      "----- 20 % -----\n",
      "sim_step: 17281.0\n",
      "last_sim_time: 0.13 seconds\n",
      "scale: 0.19182409011525775\n",
      "ETA: 0.18 minutes\n",
      "-----DONG, DONG, DONG-----\n",
      "Passed one hour!\n",
      "Day: 0 Hour: 5\n",
      "Flow between 0.1 and 0.2\n",
      "----- 21 % -----\n",
      "sim_step: 18145.0\n",
      "last_sim_time: 0.13 seconds\n",
      "scale: 0.1433435232323506\n",
      "ETA: 0.17 minutes\n",
      "----- 22 % -----\n",
      "sim_step: 19009.0\n",
      "last_sim_time: 0.13 seconds\n",
      "scale: 0.17574617114591257\n",
      "ETA: 0.17 minutes\n",
      "----- 23 % -----\n",
      "sim_step: 19873.0\n",
      "last_sim_time: 0.12 seconds\n",
      "scale: 0.1502008618242428\n",
      "ETA: 0.17 minutes\n",
      "----- 24 % -----\n",
      "sim_step: 20737.0\n",
      "last_sim_time: 0.12 seconds\n",
      "scale: 0.10161298169218198\n",
      "ETA: 0.16 minutes\n",
      "----- 25 % -----\n",
      "sim_step: 21601.0\n",
      "last_sim_time: 0.13 seconds\n",
      "scale: 0.16057647717125131\n",
      "ETA: 0.16 minutes\n",
      "-----DONG, DONG, DONG-----\n",
      "Passed one hour!\n",
      "Day: 0 Hour: 6\n",
      "Flow between 2.5 and 3.0\n",
      "----- 26 % -----\n",
      "sim_step: 22465.0\n",
      "last_sim_time: 0.56 seconds\n",
      "scale: 2.536863750669335\n",
      "ETA: 0.18 minutes\n",
      "----- 27 % -----\n",
      "sim_step: 23329.0\n",
      "last_sim_time: 0.93 seconds\n",
      "scale: 2.7065759066247828\n",
      "ETA: 0.22 minutes\n",
      "----- 28 % -----\n",
      "sim_step: 24193.0\n",
      "last_sim_time: 0.84 seconds\n",
      "scale: 2.972511718843749\n",
      "ETA: 0.24 minutes\n",
      "----- 29 % -----\n",
      "sim_step: 25057.0\n",
      "last_sim_time: 0.95 seconds\n",
      "scale: 2.837129497757385\n",
      "ETA: 0.27 minutes\n",
      "-----DONG, DONG, DONG-----\n",
      "Passed one hour!\n",
      "Day: 0 Hour: 7\n",
      "Flow between 2.5 and 3.0\n",
      "----- 30 % -----\n",
      "sim_step: 25921.0\n",
      "last_sim_time: 0.94 seconds\n",
      "scale: 2.574489433169413\n",
      "ETA: 0.3 minutes\n",
      "----- 31 % -----\n",
      "sim_step: 26785.0\n",
      "last_sim_time: 0.9 seconds\n",
      "scale: 2.7036116657267053\n",
      "ETA: 0.32 minutes\n",
      "----- 32 % -----\n",
      "sim_step: 27649.0\n",
      "last_sim_time: 0.92 seconds\n",
      "scale: 2.634403500498069\n",
      "ETA: 0.33 minutes\n",
      "----- 33 % -----\n",
      "sim_step: 28513.0\n",
      "last_sim_time: 0.93 seconds\n",
      "scale: 2.9442003348059638\n",
      "ETA: 0.35 minutes\n",
      "-----DONG, DONG, DONG-----\n",
      "Passed one hour!\n",
      "Day: 0 Hour: 8\n",
      "Flow between 2.5 and 3.0\n",
      "----- 34 % -----\n",
      "sim_step: 29377.0\n",
      "last_sim_time: 0.98 seconds\n",
      "scale: 2.572088418233986\n",
      "ETA: 0.37 minutes\n",
      "----- 35 % -----\n",
      "sim_step: 30241.0\n",
      "last_sim_time: 0.91 seconds\n",
      "scale: 2.931284623437401\n",
      "ETA: 0.38 minutes\n",
      "----- 36 % -----\n",
      "sim_step: 31105.0\n",
      "last_sim_time: 1.03 seconds\n",
      "scale: 2.5230396096172747\n",
      "ETA: 0.4 minutes\n",
      "----- 37 % -----\n",
      "sim_step: 31969.0\n",
      "last_sim_time: 1.08 seconds\n",
      "scale: 2.687968053741422\n",
      "ETA: 0.41 minutes\n",
      "-----DONG, DONG, DONG-----\n",
      "Passed one hour!\n",
      "Day: 0 Hour: 9\n",
      "Flow between 2.5 and 3.0\n",
      "----- 38 % -----\n",
      "sim_step: 32833.0\n",
      "last_sim_time: 0.95 seconds\n",
      "scale: 2.9219160938101836\n",
      "ETA: 0.42 minutes\n",
      "----- 39 % -----\n",
      "sim_step: 33697.0\n",
      "last_sim_time: 1.04 seconds\n",
      "scale: 2.74220548218286\n",
      "ETA: 0.43 minutes\n",
      "----- 40 % -----\n",
      "sim_step: 34561.0\n",
      "last_sim_time: 0.93 seconds\n",
      "scale: 2.7225978937629924\n",
      "ETA: 0.44 minutes\n",
      "----- 41 % -----\n",
      "sim_step: 35425.0\n",
      "last_sim_time: 1.02 seconds\n",
      "scale: 2.8159255791240936\n",
      "ETA: 0.44 minutes\n",
      "-----DONG, DONG, DONG-----\n",
      "Passed one hour!\n",
      "Day: 0 Hour: 10\n",
      "Flow between 1.8 and 2.0\n",
      "----- 42 % -----\n",
      "sim_step: 36289.0\n",
      "last_sim_time: 0.99 seconds\n",
      "scale: 1.8753759105611556\n",
      "ETA: 0.45 minutes\n",
      "----- 43 % -----\n",
      "sim_step: 37153.0\n",
      "last_sim_time: 0.66 seconds\n",
      "scale: 1.9844278303991012\n",
      "ETA: 0.45 minutes\n",
      "Interrupt signal received, trying to exit gracefully.\n"
     ]
    },
    {
     "ename": "KeyboardInterrupt",
     "evalue": "",
     "output_type": "error",
     "traceback": [
      "\u001B[0;31m---------------------------------------------------------------------------\u001B[0m",
      "\u001B[0;31mKeyboardInterrupt\u001B[0m                         Traceback (most recent call last)",
      "Cell \u001B[0;32mIn[4], line 1\u001B[0m\n\u001B[0;32m----> 1\u001B[0m \u001B[43mcore\u001B[49m\u001B[38;5;241;43m.\u001B[39;49m\u001B[43mstart_simulation\u001B[49m\u001B[43m(\u001B[49m\u001B[43m)\u001B[49m\n",
      "File \u001B[0;32m~/Documents/GitHub/DeepSUMO/src/simulation/sim_core.py:46\u001B[0m, in \u001B[0;36msimulation_core.start_simulation\u001B[0;34m(self)\u001B[0m\n\u001B[1;32m     43\u001B[0m \u001B[38;5;28mself\u001B[39m\u001B[38;5;241m.\u001B[39m_curr_sim_step \u001B[38;5;241m=\u001B[39m \u001B[38;5;241m0\u001B[39m\n\u001B[1;32m     45\u001B[0m \u001B[38;5;28;01mwhile\u001B[39;00m \u001B[38;5;28mself\u001B[39m\u001B[38;5;241m.\u001B[39m_curr_sim_step \u001B[38;5;241m<\u001B[39m \u001B[38;5;28mint\u001B[39m(\u001B[38;5;28mself\u001B[39m\u001B[38;5;241m.\u001B[39m_settings[\u001B[38;5;124m\"\u001B[39m\u001B[38;5;124msim_length\u001B[39m\u001B[38;5;124m\"\u001B[39m]):\n\u001B[0;32m---> 46\u001B[0m     \u001B[38;5;28;43mself\u001B[39;49m\u001B[38;5;241;43m.\u001B[39;49m\u001B[43m_go_simulation_step\u001B[49m\u001B[43m(\u001B[49m\u001B[43m)\u001B[49m\n\u001B[1;32m     48\u001B[0m \u001B[38;5;66;03m# apply moving average to denoise data\u001B[39;00m\n\u001B[1;32m     49\u001B[0m \u001B[38;5;28mself\u001B[39m\u001B[38;5;241m.\u001B[39m_data\u001B[38;5;241m.\u001B[39mnumpy\u001B[38;5;241m.\u001B[39mapply_moving_average()\n",
      "File \u001B[0;32m~/Documents/GitHub/DeepSUMO/src/simulation/sim_core.py:70\u001B[0m, in \u001B[0;36msimulation_core._go_simulation_step\u001B[0;34m(self)\u001B[0m\n\u001B[1;32m     67\u001B[0m \u001B[38;5;66;03m# check if data should be collected, and collect data if needed\u001B[39;00m\n\u001B[1;32m     68\u001B[0m \u001B[38;5;28;01mif\u001B[39;00m (\u001B[38;5;28mself\u001B[39m\u001B[38;5;241m.\u001B[39m_curr_sim_step \u001B[38;5;241m%\u001B[39m \u001B[38;5;28mint\u001B[39m(\u001B[38;5;28mself\u001B[39m\u001B[38;5;241m.\u001B[39m_settings[\u001B[38;5;124m\"\u001B[39m\u001B[38;5;124minterval_length\u001B[39m\u001B[38;5;124m\"\u001B[39m]) \u001B[38;5;241m==\u001B[39m \u001B[38;5;241m0\u001B[39m \u001B[38;5;129;01mand\u001B[39;00m\n\u001B[1;32m     69\u001B[0m         \u001B[38;5;28mself\u001B[39m\u001B[38;5;241m.\u001B[39m_curr_sim_step \u001B[38;5;241m!=\u001B[39m \u001B[38;5;241m0\u001B[39m):\n\u001B[0;32m---> 70\u001B[0m     \u001B[38;5;28;43mself\u001B[39;49m\u001B[38;5;241;43m.\u001B[39;49m\u001B[43m_data\u001B[49m\u001B[38;5;241;43m.\u001B[39;49m\u001B[43mnumpy\u001B[49m\u001B[38;5;241;43m.\u001B[39;49m\u001B[43mprocess_next_interval\u001B[49m\u001B[43m(\u001B[49m\u001B[43m)\u001B[49m\n\u001B[1;32m     71\u001B[0m     \u001B[38;5;28mself\u001B[39m\u001B[38;5;241m.\u001B[39m_curr_processing_step \u001B[38;5;241m+\u001B[39m\u001B[38;5;241m=\u001B[39m \u001B[38;5;241m1\u001B[39m\n\u001B[1;32m     72\u001B[0m     \u001B[38;5;28mself\u001B[39m\u001B[38;5;241m.\u001B[39m_data\u001B[38;5;241m.\u001B[39madd_processing_step()\n",
      "File \u001B[0;32m~/Documents/GitHub/DeepSUMO/src/controllers/numpy_graph_controller.py:50\u001B[0m, in \u001B[0;36mnumpy_graph_controller.process_next_interval\u001B[0;34m(self)\u001B[0m\n\u001B[1;32m     46\u001B[0m ref_speed \u001B[38;5;241m=\u001B[39m \u001B[38;5;28mself\u001B[39m\u001B[38;5;241m.\u001B[39m_reference_speeds[detector_id]\n\u001B[1;32m     47\u001B[0m \u001B[38;5;66;03m# adjust occupancy value according to eq. 4\u001B[39;00m\n\u001B[1;32m     48\u001B[0m vehicle_occupancy \u001B[38;5;241m=\u001B[39m traci\u001B[38;5;241m.\u001B[39minductionloop\\\n\u001B[1;32m     49\u001B[0m     \u001B[38;5;241m.\u001B[39mgetLastIntervalOccupancy(detector_id) \u001B[38;5;241m/\u001B[39m \\\n\u001B[0;32m---> 50\u001B[0m     \u001B[43mtraci\u001B[49m\u001B[38;5;241;43m.\u001B[39;49m\u001B[43minductionloop\u001B[49m\u001B[38;5;241;43m.\u001B[39;49m\u001B[43mgetLastIntervalVehicleNumber\u001B[49m\u001B[43m(\u001B[49m\u001B[43mdetector_id\u001B[49m\u001B[43m)\u001B[49m\n\u001B[1;32m     51\u001B[0m \u001B[38;5;28;01mif\u001B[39;00m vehicle_occupancy \u001B[38;5;241m>\u001B[39m\u001B[38;5;241m=\u001B[39m \u001B[38;5;241m1.0\u001B[39m:\n\u001B[1;32m     52\u001B[0m     vehicle_occupancy \u001B[38;5;241m=\u001B[39m \u001B[38;5;241m1.0\u001B[39m\n",
      "File \u001B[0;32m~/.venvs/Pytorch_Python3.11/lib64/python3.11/site-packages/traci/_inductionloop.py:162\u001B[0m, in \u001B[0;36mInductionLoopDomain.getLastIntervalVehicleNumber\u001B[0;34m(self, loopID)\u001B[0m\n\u001B[1;32m    157\u001B[0m \u001B[38;5;28;01mdef\u001B[39;00m \u001B[38;5;21mgetLastIntervalVehicleNumber\u001B[39m(\u001B[38;5;28mself\u001B[39m, loopID):\n\u001B[1;32m    158\u001B[0m \u001B[38;5;250m    \u001B[39m\u001B[38;5;124;03m\"\"\"getLastIntervalVehicleNumber(string) -> integer\u001B[39;00m\n\u001B[1;32m    159\u001B[0m \n\u001B[1;32m    160\u001B[0m \u001B[38;5;124;03m    Returns the number of vehicles that passed the detector during the previous interval\u001B[39;00m\n\u001B[1;32m    161\u001B[0m \u001B[38;5;124;03m    \"\"\"\u001B[39;00m\n\u001B[0;32m--> 162\u001B[0m     \u001B[38;5;28;01mreturn\u001B[39;00m \u001B[38;5;28;43mself\u001B[39;49m\u001B[38;5;241;43m.\u001B[39;49m\u001B[43m_getUniversal\u001B[49m\u001B[43m(\u001B[49m\u001B[43mtc\u001B[49m\u001B[38;5;241;43m.\u001B[39;49m\u001B[43mVAR_LAST_INTERVAL_NUMBER\u001B[49m\u001B[43m,\u001B[49m\u001B[43m \u001B[49m\u001B[43mloopID\u001B[49m\u001B[43m)\u001B[49m\n",
      "File \u001B[0;32m~/.venvs/Pytorch_Python3.11/lib64/python3.11/site-packages/traci/domain.py:147\u001B[0m, in \u001B[0;36mDomain._getUniversal\u001B[0;34m(self, varID, objectID, format, *values)\u001B[0m\n\u001B[1;32m    145\u001B[0m \u001B[38;5;28;01mif\u001B[39;00m \u001B[38;5;28mself\u001B[39m\u001B[38;5;241m.\u001B[39m_deprecatedFor:\n\u001B[1;32m    146\u001B[0m     warnings\u001B[38;5;241m.\u001B[39mwarn(\u001B[38;5;124m\"\u001B[39m\u001B[38;5;124mThe domain \u001B[39m\u001B[38;5;132;01m%s\u001B[39;00m\u001B[38;5;124m is deprecated, use \u001B[39m\u001B[38;5;132;01m%s\u001B[39;00m\u001B[38;5;124m instead.\u001B[39m\u001B[38;5;124m\"\u001B[39m \u001B[38;5;241m%\u001B[39m (\u001B[38;5;28mself\u001B[39m\u001B[38;5;241m.\u001B[39m_name, \u001B[38;5;28mself\u001B[39m\u001B[38;5;241m.\u001B[39m_deprecatedFor))\n\u001B[0;32m--> 147\u001B[0m \u001B[38;5;28;01mreturn\u001B[39;00m _parse(\u001B[38;5;28mself\u001B[39m\u001B[38;5;241m.\u001B[39m_retValFunc, varID, \u001B[38;5;28;43mself\u001B[39;49m\u001B[38;5;241;43m.\u001B[39;49m\u001B[43m_getCmd\u001B[49m\u001B[43m(\u001B[49m\u001B[43mvarID\u001B[49m\u001B[43m,\u001B[49m\u001B[43m \u001B[49m\u001B[43mobjectID\u001B[49m\u001B[43m,\u001B[49m\u001B[43m \u001B[49m\u001B[38;5;28;43mformat\u001B[39;49m\u001B[43m,\u001B[49m\u001B[43m \u001B[49m\u001B[38;5;241;43m*\u001B[39;49m\u001B[43mvalues\u001B[49m\u001B[43m)\u001B[49m)\n",
      "File \u001B[0;32m~/.venvs/Pytorch_Python3.11/lib64/python3.11/site-packages/traci/domain.py:152\u001B[0m, in \u001B[0;36mDomain._getCmd\u001B[0;34m(self, varID, objID, format, *values)\u001B[0m\n\u001B[1;32m    150\u001B[0m \u001B[38;5;28;01mif\u001B[39;00m \u001B[38;5;28mself\u001B[39m\u001B[38;5;241m.\u001B[39m_connection \u001B[38;5;129;01mis\u001B[39;00m \u001B[38;5;28;01mNone\u001B[39;00m:\n\u001B[1;32m    151\u001B[0m     \u001B[38;5;28;01mraise\u001B[39;00m FatalTraCIError(\u001B[38;5;124m\"\u001B[39m\u001B[38;5;124mNot connected.\u001B[39m\u001B[38;5;124m\"\u001B[39m)\n\u001B[0;32m--> 152\u001B[0m r \u001B[38;5;241m=\u001B[39m \u001B[38;5;28;43mself\u001B[39;49m\u001B[38;5;241;43m.\u001B[39;49m\u001B[43m_connection\u001B[49m\u001B[38;5;241;43m.\u001B[39;49m\u001B[43m_sendCmd\u001B[49m\u001B[43m(\u001B[49m\u001B[38;5;28;43mself\u001B[39;49m\u001B[38;5;241;43m.\u001B[39;49m\u001B[43m_cmdGetID\u001B[49m\u001B[43m,\u001B[49m\u001B[43m \u001B[49m\u001B[43mvarID\u001B[49m\u001B[43m,\u001B[49m\u001B[43m \u001B[49m\u001B[43mobjID\u001B[49m\u001B[43m,\u001B[49m\u001B[43m \u001B[49m\u001B[38;5;28;43mformat\u001B[39;49m\u001B[43m,\u001B[49m\u001B[43m \u001B[49m\u001B[38;5;241;43m*\u001B[39;49m\u001B[43mvalues\u001B[49m\u001B[43m)\u001B[49m\n\u001B[1;32m    153\u001B[0m r\u001B[38;5;241m.\u001B[39mreadLength()\n\u001B[1;32m    154\u001B[0m response, retVarID \u001B[38;5;241m=\u001B[39m r\u001B[38;5;241m.\u001B[39mread(\u001B[38;5;124m\"\u001B[39m\u001B[38;5;124m!BB\u001B[39m\u001B[38;5;124m\"\u001B[39m)\n",
      "File \u001B[0;32m~/.venvs/Pytorch_Python3.11/lib64/python3.11/site-packages/traci/connection.py:228\u001B[0m, in \u001B[0;36mConnection._sendCmd\u001B[0;34m(self, cmdID, varID, objID, format, *values)\u001B[0m\n\u001B[1;32m    226\u001B[0m     \u001B[38;5;28mself\u001B[39m\u001B[38;5;241m.\u001B[39m_string \u001B[38;5;241m+\u001B[39m\u001B[38;5;241m=\u001B[39m struct\u001B[38;5;241m.\u001B[39mpack(\u001B[38;5;124m\"\u001B[39m\u001B[38;5;124m!i\u001B[39m\u001B[38;5;124m\"\u001B[39m, \u001B[38;5;28mlen\u001B[39m(objID)) \u001B[38;5;241m+\u001B[39m objID\u001B[38;5;241m.\u001B[39mencode(\u001B[38;5;124m\"\u001B[39m\u001B[38;5;124mlatin1\u001B[39m\u001B[38;5;124m\"\u001B[39m)\n\u001B[1;32m    227\u001B[0m \u001B[38;5;28mself\u001B[39m\u001B[38;5;241m.\u001B[39m_string \u001B[38;5;241m+\u001B[39m\u001B[38;5;241m=\u001B[39m packed\n\u001B[0;32m--> 228\u001B[0m \u001B[38;5;28;01mreturn\u001B[39;00m \u001B[38;5;28;43mself\u001B[39;49m\u001B[38;5;241;43m.\u001B[39;49m\u001B[43m_sendExact\u001B[49m\u001B[43m(\u001B[49m\u001B[43m)\u001B[49m\n",
      "File \u001B[0;32m~/.venvs/Pytorch_Python3.11/lib64/python3.11/site-packages/traci/connection.py:131\u001B[0m, in \u001B[0;36mConnection._sendExact\u001B[0;34m(self)\u001B[0m\n\u001B[1;32m    129\u001B[0m     \u001B[38;5;28mprint\u001B[39m(\u001B[38;5;124m\"\u001B[39m\u001B[38;5;124msending\u001B[39m\u001B[38;5;124m\"\u001B[39m, Storage(length \u001B[38;5;241m+\u001B[39m \u001B[38;5;28mself\u001B[39m\u001B[38;5;241m.\u001B[39m_string)\u001B[38;5;241m.\u001B[39mgetDebugString())\n\u001B[1;32m    130\u001B[0m \u001B[38;5;28mself\u001B[39m\u001B[38;5;241m.\u001B[39m_socket\u001B[38;5;241m.\u001B[39msend(length \u001B[38;5;241m+\u001B[39m \u001B[38;5;28mself\u001B[39m\u001B[38;5;241m.\u001B[39m_string)\n\u001B[0;32m--> 131\u001B[0m result \u001B[38;5;241m=\u001B[39m \u001B[38;5;28;43mself\u001B[39;49m\u001B[38;5;241;43m.\u001B[39;49m\u001B[43m_recvExact\u001B[49m\u001B[43m(\u001B[49m\u001B[43m)\u001B[49m\n\u001B[1;32m    132\u001B[0m \u001B[38;5;28;01mif\u001B[39;00m _DEBUG:\n\u001B[1;32m    133\u001B[0m     \u001B[38;5;28mprint\u001B[39m(\u001B[38;5;124m\"\u001B[39m\u001B[38;5;124mreceiving\u001B[39m\u001B[38;5;124m\"\u001B[39m, result\u001B[38;5;241m.\u001B[39mgetDebugString())\n",
      "File \u001B[0;32m~/.venvs/Pytorch_Python3.11/lib64/python3.11/site-packages/traci/connection.py:109\u001B[0m, in \u001B[0;36mConnection._recvExact\u001B[0;34m(self)\u001B[0m\n\u001B[1;32m    107\u001B[0m result \u001B[38;5;241m=\u001B[39m \u001B[38;5;28mbytes\u001B[39m()\n\u001B[1;32m    108\u001B[0m \u001B[38;5;28;01mwhile\u001B[39;00m \u001B[38;5;28mlen\u001B[39m(result) \u001B[38;5;241m<\u001B[39m \u001B[38;5;241m4\u001B[39m:\n\u001B[0;32m--> 109\u001B[0m     t \u001B[38;5;241m=\u001B[39m \u001B[38;5;28;43mself\u001B[39;49m\u001B[38;5;241;43m.\u001B[39;49m\u001B[43m_socket\u001B[49m\u001B[38;5;241;43m.\u001B[39;49m\u001B[43mrecv\u001B[49m\u001B[43m(\u001B[49m\u001B[38;5;241;43m4\u001B[39;49m\u001B[43m \u001B[49m\u001B[38;5;241;43m-\u001B[39;49m\u001B[43m \u001B[49m\u001B[38;5;28;43mlen\u001B[39;49m\u001B[43m(\u001B[49m\u001B[43mresult\u001B[49m\u001B[43m)\u001B[49m\u001B[43m)\u001B[49m\n\u001B[1;32m    110\u001B[0m     \u001B[38;5;28;01mif\u001B[39;00m \u001B[38;5;129;01mnot\u001B[39;00m t:\n\u001B[1;32m    111\u001B[0m         \u001B[38;5;28;01mreturn\u001B[39;00m \u001B[38;5;28;01mNone\u001B[39;00m\n",
      "\u001B[0;31mKeyboardInterrupt\u001B[0m: "
     ]
    }
   ],
   "source": [
    "core.start_simulation()"
   ]
  },
  {
   "cell_type": "markdown",
   "metadata": {
    "collapsed": false
   },
   "source": [
    "Crate dataset from data collected by DeepSUMO"
   ]
  },
  {
   "cell_type": "code",
   "execution_count": null,
   "metadata": {
    "ExecuteTime": {
     "end_time": "2023-08-06T09:37:40.159652139Z",
     "start_time": "2023-08-06T09:37:40.080454660Z"
    },
    "collapsed": false
   },
   "outputs": [],
   "source": [
    "data = adaptive_speed2vec_dataset(core.get_data(), settings[\"total_graphs\"])\n",
    "data.process()"
   ]
  },
  {
   "cell_type": "markdown",
   "metadata": {
    "collapsed": false
   },
   "source": [
    "Split dataset into data loaders"
   ]
  },
  {
   "cell_type": "code",
   "execution_count": null,
   "metadata": {
    "ExecuteTime": {
     "end_time": "2023-08-06T09:37:47.871883593Z",
     "start_time": "2023-08-06T09:37:47.771266907Z"
    },
    "collapsed": false
   },
   "outputs": [],
   "source": [
    "import numpy as np\n",
    "\n",
    "l = []\n",
    "l2 = []\n",
    "buffer = []\n",
    "s_id = random.randint(0, settings[\"N_NODE\"] - 1)\n",
    "\n",
    "print(core.get_data().numpy.get_speed_node_features().shape)\n",
    "for i, point in enumerate(core.get_data().numpy.get_speed_node_features()):\n",
    "    if i % 10 == 0:\n",
    "        l2.append(np.average(buffer))\n",
    "        buffer.clear()\n",
    "    buffer.append(point[s_id] * 3.6)\n",
    "    #print(point[12])\n",
    "    l.append(point[s_id] * 3.6)\n",
    "\n",
    "l = l[4:2000]\n",
    "\n",
    "print(s_id)\n",
    "sumo_id = core.get_data().translation.get_detector_id(s_id)\n",
    "target_lane_id = traci.inductionloop.getLaneID(sumo_id)\n",
    "target_lane: sumolib.net.lane.Lane = core.get_data().net.getLane(target_lane_id)\n",
    "target_edge: sumolib.net.edge.Edge = target_lane.getEdge()\n",
    "\n",
    "plt.title(target_edge.getName())\n",
    "plt.plot(range(len(l2)), l2)\n",
    "plt.xlabel(\"interval\")\n",
    "plt.ylabel(\"speed\")\n",
    "plt.show()"
   ]
  },
  {
   "cell_type": "markdown",
   "metadata": {
    "collapsed": false
   },
   "source": [
    "0, 268"
   ]
  },
  {
   "cell_type": "code",
   "execution_count": null,
   "metadata": {
    "ExecuteTime": {
     "end_time": "2023-08-03T15:56:20.925524845Z",
     "start_time": "2023-08-03T15:56:20.919830366Z"
    },
    "collapsed": false
   },
   "outputs": [],
   "source": [
    "train_threshold = int(len(data) * 0.9)\n",
    "valid_threshold = int(len(data) * 0.9)\n",
    "test_threshold = int(len(data) * 1.0)\n",
    "\n",
    "train_loader = DataLoader(data[:train_threshold], shuffle=True, batch_size=settings[\"BATCH_SIZE\"])\n",
    "valid_loader = DataLoader(data[train_threshold:test_threshold], shuffle=True, batch_size=settings[\"BATCH_SIZE\"])\n",
    "test_loader = DataLoader(data[train_threshold:test_threshold], shuffle=False, batch_size=settings[\"BATCH_SIZE\"])"
   ]
  },
  {
   "cell_type": "markdown",
   "metadata": {
    "collapsed": false
   },
   "source": [
    "Set up device"
   ]
  },
  {
   "cell_type": "code",
   "execution_count": null,
   "metadata": {
    "ExecuteTime": {
     "end_time": "2023-08-03T15:56:22.470823656Z",
     "start_time": "2023-08-03T15:56:22.465365946Z"
    },
    "collapsed": false
   },
   "outputs": [],
   "source": [
    "device = 'cuda' if torch.cuda.is_available() else 'cpu'\n",
    "print(f\"Using {device}\")"
   ]
  },
  {
   "cell_type": "markdown",
   "metadata": {
    "collapsed": false
   },
   "source": [
    "Train the model\n",
    "\n",
    "The model used in this example is modified version of the ST-GAT model implementation by [Julie Wang](https://github.com/jswang), [Amelia](https://github.com/amelia22974) and [Tracy Cai](https://github.com/tracy-cai) which can be found [here](https://github.com/jswang/stgat_traffic_prediction).  "
   ]
  },
  {
   "cell_type": "code",
   "execution_count": null,
   "metadata": {
    "ExecuteTime": {
     "end_time": "2023-08-03T15:56:31.521925696Z",
     "start_time": "2023-08-03T15:56:26.092990278Z"
    },
    "collapsed": false
   },
   "outputs": [],
   "source": [
    "model = model_train(train_loader, valid_loader, settings, device)"
   ]
  },
  {
   "cell_type": "markdown",
   "metadata": {
    "collapsed": false
   },
   "source": [
    "Get predictions on testing dataset and organize them in a way, so that they can be easily plotted"
   ]
  },
  {
   "cell_type": "code",
   "execution_count": null,
   "metadata": {
    "ExecuteTime": {
     "end_time": "2023-08-03T15:56:37.528661752Z",
     "start_time": "2023-08-03T15:56:37.519073399Z"
    },
    "collapsed": false
   },
   "outputs": [],
   "source": [
    "model.eval()\n",
    "model.to(device)\n",
    "\n",
    "for i, batch in enumerate(test_loader):\n",
    "    # get predictions from model\n",
    "    # shape -> (batch_size * num_nodes, n_pred/n_hist)\n",
    "    batch = batch.to(device)\n",
    "    with torch.no_grad():\n",
    "        pred = model(batch, device)\n",
    "    truth = batch.y.view(pred.shape)\n",
    "    \n",
    "    # all values have been normalized using the z-score method,\n",
    "    # so they have to be unnormalized again for evaluation\n",
    "    truth = un_z_score(truth, test_loader.dataset.mean,\n",
    "                       test_loader.dataset.std_dev)\n",
    "    pred = un_z_score(pred, test_loader.dataset.mean,\n",
    "                      test_loader.dataset.std_dev)\n",
    "\n",
    "    truth = batch.y.view(pred.shape)\n",
    "    if i == 0:\n",
    "        # initialize collection variable with zeroes on first batch\n",
    "        # shape -> (num_batches, batch_size * num_nodes, n_pred/n_hist)\n",
    "        y_pred = torch.zeros(len(test_loader), test_loader.batch_size * settings[\"N_NODE\"], pred.shape[1])\n",
    "        y_truth = torch.zeros(len(test_loader), test_loader.batch_size * settings[\"N_NODE\"], pred.shape[1])\n",
    "    # append data from current batch to data from other batches \n",
    "    #\n",
    "    # Only append until the true length of the batch in the second dimension in case\n",
    "    # there are less than the max size of possible elements in the batch (can\n",
    "    # only happen on the last batch)\n",
    "    y_pred[i, :pred.shape[0], :] = pred\n",
    "    y_truth[i, :pred.shape[0], :] = truth\n",
    "\n",
    "# reshape into a more readable format \n",
    "# (num_batches, batch_size * num_nodes, n_pred/n_hist) \n",
    "# -> (num_intervals, n_node, n_pred/n_hist)\n",
    "y_pred = y_pred.reshape(len(test_loader) * 50,\n",
    "                        settings[\"N_NODE\"], 9)\n",
    "y_truth = y_truth.reshape(len(test_loader) * 50,\n",
    "                          settings[\"N_NODE\"], 9)\n",
    "\n",
    "# cut off the last elements if there are fewer data points in the data as \n",
    "# maximum batch-size (because they are 0)\n",
    "y_pred = y_pred[:len(test_loader.dataset), :, :]\n",
    "y_truth = y_pred[:len(test_loader.dataset), :, :]\n",
    "\n",
    "y_truth = un_z_score(y_truth, data.mean, data.std_dev)"
   ]
  },
  {
   "cell_type": "markdown",
   "metadata": {
    "collapsed": false
   },
   "source": [
    "Plot predictions and truth of a random detector"
   ]
  },
  {
   "cell_type": "code",
   "execution_count": null,
   "metadata": {
    "ExecuteTime": {
     "end_time": "2023-08-03T15:58:10.229876957Z",
     "start_time": "2023-08-03T15:58:10.206055303Z"
    },
    "collapsed": false
   },
   "outputs": [],
   "source": [
    "\n",
    "\n",
    "s1 = []\n",
    "s2 = []\n",
    "# get a random node\n",
    "target = random.randint(0, settings[\"N_NODE\"] - 1)\n",
    "#print(core._data.translation.get_order())\n",
    "#target = core._data.translation.get_index(\"98\")\n",
    "\n",
    "# get name of street associated with chosen detector\n",
    "sumo_id = core.get_data().translation.get_detector_id(target)\n",
    "target_lane_id = traci.inductionloop.getLaneID(sumo_id)\n",
    "target_lane: sumolib.net.lane.Lane = core.get_data().net.getLane(target_lane_id)\n",
    "target_edge: sumolib.net.edge.Edge = target_lane.getEdge()\n",
    "\n",
    "for i in range(20):\n",
    "    s1.append(y_pred[i][target][0])\n",
    "    s2.append(y_truth[i][target][0])\n",
    "\n",
    "print(sumo_id)\n",
    "#print(y_pred[:][target])\n",
    "#print(y_truth[:][target])\n",
    "\n",
    "plt.title(target_edge.getName())\n",
    "#plt.figure(figsize=(10,5), dpi=300)\n",
    "plt.plot(range(20), s1, label='pred')\n",
    "plt.plot(range(20), s2, label='truth')\n",
    "plt.xlabel(\"step\")\n",
    "plt.ylabel(\"speed\")\n",
    "plt.legend()\n",
    "plt.show()"
   ]
  }
 ],
 "metadata": {
  "kernelspec": {
   "display_name": "Python 3",
   "language": "python",
   "name": "python3"
  },
  "language_info": {
   "codemirror_mode": {
    "name": "ipython",
    "version": 2
   },
   "file_extension": ".py",
   "mimetype": "text/x-python",
   "name": "python",
   "nbconvert_exporter": "python",
   "pygments_lexer": "ipython2",
   "version": "3.10.11"
  }
 },
 "nbformat": 4,
 "nbformat_minor": 0
}
