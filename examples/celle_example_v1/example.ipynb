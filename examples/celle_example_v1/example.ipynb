{
 "cells": [
  {
   "cell_type": "markdown",
   "metadata": {
    "collapsed": false
   },
   "source": [
    "## Before proceeding please download the simulations trip files from https://sync.academiccloud.de/index.php/s/0FqlsyTD8BvQDtl, and extract them into ./config as they are too large to be hosted directly on GitHub"
   ]
  },
  {
   "cell_type": "code",
   "execution_count": null,
   "metadata": {
    "ExecuteTime": {
     "end_time": "2023-08-06T09:35:13.558025599Z",
     "start_time": "2023-08-06T09:35:08.012007901Z"
    },
    "collapsed": true
   },
   "outputs": [],
   "source": [
    "import numpy as np\n",
    "\n",
    "from src.simulation.sim_core import simulation_core\n",
    "from src.torch_geo.dataset.adaptive_speed2vec_dataset import adaptive_speed2vec_dataset\n",
    "from src.generator.detector_node_connector import distance_connector_strategy\n",
    "from src.simulation.modules.progress_module import progress_module\n",
    "from src.simulation.modules.simulationFlowControlModule import simulationFlowControlModule\n",
    "from src.torch_geo.model.trainer import model_train\n",
    "from src.utils.math_utils import un_z_score\n",
    "\n",
    "from torch_geometric.loader import DataLoader\n",
    "from matplotlib import pyplot as plt\n",
    "import torch, random, sumolib, traci"
   ]
  },
  {
   "cell_type": "markdown",
   "metadata": {
    "collapsed": false
   },
   "source": [
    "Create and set up settings"
   ]
  },
  {
   "cell_type": "code",
   "execution_count": null,
   "metadata": {
    "ExecuteTime": {
     "end_time": "2023-08-06T09:35:14.803823326Z",
     "start_time": "2023-08-06T09:35:14.797993561Z"
    },
    "collapsed": false
   },
   "outputs": [],
   "source": [
    "settings: dict = {\n",
    "    # ----- framework settings -----\n",
    "    \"sumo_exec_path\": \"<path>\",\n",
    "    \"sumo_config_path\": \"<path>\",\n",
    "    \"sumo_net_path\": \"<path>\",\n",
    "\n",
    "    # one day: 86400\n",
    "    # one week: 604800\n",
    "    # 777600\n",
    "    # one month: 2419200\n",
    "    \"sim_length\": 86400,  # total length of the simulation\n",
    "    \"interval_length\": 300,  # size of one aggregation step\n",
    "\n",
    "    # ----- model settings -----\n",
    "    \"N_HIST\": 12,  # for Speed2Vec dataset, number of preceding steps\n",
    "    \"N_PRED\": 9,  # for Speed2Vec dataset, number of prediction steps\n",
    "    'WEIGHT_DECAY': 5e-5,\n",
    "    'INITIAL_LR': 3e-4,\n",
    "    'DROPOUT': 0.6,\n",
    "    'CHECKPOINT_DIR': './runs',\n",
    "\n",
    "    'BATCH_SIZE': 50,\n",
    "    'EPOCHS': 60,\n",
    "    'N_NODE': 274\n",
    "}\n",
    "settings[\"total_graphs\"] = int(settings[\"sim_length\"]) // int(settings[\"interval_length\"])"
   ]
  },
  {
   "cell_type": "markdown",
   "metadata": {
    "collapsed": false
   },
   "source": [
    "Create simulation core object and add observers"
   ]
  },
  {
   "cell_type": "code",
   "execution_count": null,
   "metadata": {
    "ExecuteTime": {
     "end_time": "2023-08-06T09:35:36.389075872Z",
     "start_time": "2023-08-06T09:35:36.140361917Z"
    },
    "collapsed": false
   },
   "outputs": [],
   "source": [
    "core = simulation_core(settings, distance_connector_strategy(50))\n",
    "\n",
    "observer_1 = progress_module(settings[\"sim_length\"] // 100)\n",
    "observer_2 = simulationFlowControlModule(60)\n",
    "\n",
    "core.add_continuous_observer(observer_1)\n",
    "core.add_continuous_observer(observer_2)"
   ]
  },
  {
   "cell_type": "markdown",
   "metadata": {
    "collapsed": false
   },
   "source": [
    "Start simulation"
   ]
  },
  {
   "cell_type": "code",
   "execution_count": null,
   "metadata": {
    "ExecuteTime": {
     "end_time": "2023-08-06T09:36:47.968714707Z",
     "start_time": "2023-08-06T09:35:40.231425780Z"
    },
    "collapsed": false
   },
   "outputs": [],
   "source": [
    "core.start_simulation()"
   ]
  },
  {
   "cell_type": "markdown",
   "metadata": {
    "collapsed": false
   },
   "source": [
    "Crate dataset from data collected by DeepSUMO"
   ]
  },
  {
   "cell_type": "code",
   "execution_count": null,
   "metadata": {
    "ExecuteTime": {
     "end_time": "2023-08-06T09:37:40.159652139Z",
     "start_time": "2023-08-06T09:37:40.080454660Z"
    },
    "collapsed": false
   },
   "outputs": [],
   "source": [
    "data = adaptive_speed2vec_dataset(core.get_data(), settings[\"total_graphs\"])\n",
    "data.process()"
   ]
  },
  {
   "cell_type": "markdown",
   "metadata": {
    "collapsed": false
   },
   "source": [
    "Split dataset into data loaders"
   ]
  },
  {
   "cell_type": "code",
   "execution_count": null,
   "metadata": {
    "ExecuteTime": {
     "end_time": "2023-08-06T09:37:47.871883593Z",
     "start_time": "2023-08-06T09:37:47.771266907Z"
    },
    "collapsed": false
   },
   "outputs": [],
   "source": [
    "import numpy as np\n",
    "\n",
    "l = []\n",
    "l2 = []\n",
    "buffer = []\n",
    "s_id = random.randint(0, settings[\"N_NODE\"] - 1)\n",
    "\n",
    "print(core.get_data().numpy.get_speed_node_features().shape)\n",
    "for i, point in enumerate(core.get_data().numpy.get_speed_node_features()):\n",
    "    if i % 10 == 0:\n",
    "        l2.append(np.average(buffer))\n",
    "        buffer.clear()\n",
    "    buffer.append(point[s_id] * 3.6)\n",
    "    #print(point[12])\n",
    "    l.append(point[s_id] * 3.6)\n",
    "\n",
    "l = l[4:2000]\n",
    "\n",
    "print(s_id)\n",
    "sumo_id = core.get_data().translation.get_detector_id(s_id)\n",
    "target_lane_id = traci.inductionloop.getLaneID(sumo_id)\n",
    "target_lane: sumolib.net.lane.Lane = core.get_data().net.getLane(target_lane_id)\n",
    "target_edge: sumolib.net.edge.Edge = target_lane.getEdge()\n",
    "\n",
    "plt.title(target_edge.getName())\n",
    "plt.plot(range(len(l2)), l2)\n",
    "plt.xlabel(\"interval\")\n",
    "plt.ylabel(\"speed\")\n",
    "plt.show()"
   ]
  },
  {
   "cell_type": "markdown",
   "metadata": {
    "collapsed": false
   },
   "source": [
    "0, 268"
   ]
  },
  {
   "cell_type": "code",
   "execution_count": null,
   "metadata": {
    "ExecuteTime": {
     "end_time": "2023-08-03T15:56:20.925524845Z",
     "start_time": "2023-08-03T15:56:20.919830366Z"
    },
    "collapsed": false
   },
   "outputs": [],
   "source": [
    "train_threshold = int(len(data) * 0.9)\n",
    "valid_threshold = int(len(data) * 0.9)\n",
    "test_threshold = int(len(data) * 1.0)\n",
    "\n",
    "train_loader = DataLoader(data[:train_threshold], shuffle=True, batch_size=settings[\"BATCH_SIZE\"])\n",
    "valid_loader = DataLoader(data[train_threshold:test_threshold], shuffle=True, batch_size=settings[\"BATCH_SIZE\"])\n",
    "test_loader = DataLoader(data[train_threshold:test_threshold], shuffle=False, batch_size=settings[\"BATCH_SIZE\"])"
   ]
  },
  {
   "cell_type": "markdown",
   "metadata": {
    "collapsed": false
   },
   "source": [
    "Set up device"
   ]
  },
  {
   "cell_type": "code",
   "execution_count": null,
   "metadata": {
    "ExecuteTime": {
     "end_time": "2023-08-03T15:56:22.470823656Z",
     "start_time": "2023-08-03T15:56:22.465365946Z"
    },
    "collapsed": false
   },
   "outputs": [],
   "source": [
    "device = 'cuda' if torch.cuda.is_available() else 'cpu'\n",
    "print(f\"Using {device}\")"
   ]
  },
  {
   "cell_type": "markdown",
   "metadata": {
    "collapsed": false
   },
   "source": [
    "Train the model\n",
    "\n",
    "The model used in this example is modified version of the ST-GAT model implementation by [Julie Wang](https://github.com/jswang), [Amelia](https://github.com/amelia22974) and [Tracy Cai](https://github.com/tracy-cai) which can be found [here](https://github.com/jswang/stgat_traffic_prediction).  "
   ]
  },
  {
   "cell_type": "code",
   "execution_count": null,
   "metadata": {
    "ExecuteTime": {
     "end_time": "2023-08-03T15:56:31.521925696Z",
     "start_time": "2023-08-03T15:56:26.092990278Z"
    },
    "collapsed": false
   },
   "outputs": [],
   "source": [
    "model = model_train(train_loader, valid_loader, settings, device)"
   ]
  },
  {
   "cell_type": "markdown",
   "metadata": {
    "collapsed": false
   },
   "source": [
    "Get predictions on testing dataset and organize them in a way, so that they can be easily plotted"
   ]
  },
  {
   "cell_type": "code",
   "execution_count": null,
   "metadata": {
    "ExecuteTime": {
     "end_time": "2023-08-03T15:56:37.528661752Z",
     "start_time": "2023-08-03T15:56:37.519073399Z"
    },
    "collapsed": false
   },
   "outputs": [],
   "source": [
    "model.eval()\n",
    "model.to(device)\n",
    "\n",
    "for i, batch in enumerate(test_loader):\n",
    "    # get predictions from model\n",
    "    # shape -> (batch_size * num_nodes, n_pred/n_hist)\n",
    "    batch = batch.to(device)\n",
    "    with torch.no_grad():\n",
    "        pred = model(batch, device)\n",
    "    truth = batch.y.view(pred.shape)\n",
    "    \n",
    "    # all values have been normalized using the z-score method,\n",
    "    # so they have to be unnormalized again for evaluation\n",
    "    truth = un_z_score(truth, test_loader.dataset.mean,\n",
    "                       test_loader.dataset.std_dev)\n",
    "    pred = un_z_score(pred, test_loader.dataset.mean,\n",
    "                      test_loader.dataset.std_dev)\n",
    "\n",
    "    truth = batch.y.view(pred.shape)\n",
    "    if i == 0:\n",
    "        # initialize collection variable with zeroes on first batch\n",
    "        # shape -> (num_batches, batch_size * num_nodes, n_pred/n_hist)\n",
    "        y_pred = torch.zeros(len(test_loader), test_loader.batch_size * settings[\"N_NODE\"], pred.shape[1])\n",
    "        y_truth = torch.zeros(len(test_loader), test_loader.batch_size * settings[\"N_NODE\"], pred.shape[1])\n",
    "    # append data from current batch to data from other batches \n",
    "    #\n",
    "    # Only append until the true length of the batch in the second dimension in case\n",
    "    # there are less than the max size of possible elements in the batch (can\n",
    "    # only happen on the last batch)\n",
    "    y_pred[i, :pred.shape[0], :] = pred\n",
    "    y_truth[i, :pred.shape[0], :] = truth\n",
    "\n",
    "# reshape into a more readable format \n",
    "# (num_batches, batch_size * num_nodes, n_pred/n_hist) \n",
    "# -> (num_intervals, n_node, n_pred/n_hist)\n",
    "y_pred = y_pred.reshape(len(test_loader) * 50,\n",
    "                        settings[\"N_NODE\"], 9)\n",
    "y_truth = y_truth.reshape(len(test_loader) * 50,\n",
    "                          settings[\"N_NODE\"], 9)\n",
    "\n",
    "# cut off the last elements if there are fewer data points in the data as \n",
    "# maximum batch-size (because they are 0)\n",
    "y_pred = y_pred[:len(test_loader.dataset), :, :]\n",
    "y_truth = y_pred[:len(test_loader.dataset), :, :]\n",
    "\n",
    "y_truth = un_z_score(y_truth, data.mean, data.std_dev)"
   ]
  },
  {
   "cell_type": "markdown",
   "metadata": {
    "collapsed": false
   },
   "source": [
    "Plot predictions and truth of a random detector"
   ]
  },
  {
   "cell_type": "code",
   "execution_count": null,
   "metadata": {
    "ExecuteTime": {
     "end_time": "2023-08-03T15:58:10.229876957Z",
     "start_time": "2023-08-03T15:58:10.206055303Z"
    },
    "collapsed": false
   },
   "outputs": [],
   "source": [
    "\n",
    "\n",
    "s1 = []\n",
    "s2 = []\n",
    "# get a random node\n",
    "target = random.randint(0, settings[\"N_NODE\"] - 1)\n",
    "#print(core._data.translation.get_order())\n",
    "#target = core._data.translation.get_index(\"98\")\n",
    "\n",
    "# get name of street associated with chosen detector\n",
    "sumo_id = core.get_data().translation.get_detector_id(target)\n",
    "target_lane_id = traci.inductionloop.getLaneID(sumo_id)\n",
    "target_lane: sumolib.net.lane.Lane = core.get_data().net.getLane(target_lane_id)\n",
    "target_edge: sumolib.net.edge.Edge = target_lane.getEdge()\n",
    "\n",
    "for i in range(20):\n",
    "    s1.append(y_pred[i][target][0])\n",
    "    s2.append(y_truth[i][target][0])\n",
    "\n",
    "print(sumo_id)\n",
    "#print(y_pred[:][target])\n",
    "#print(y_truth[:][target])\n",
    "\n",
    "plt.title(target_edge.getName())\n",
    "#plt.figure(figsize=(10,5), dpi=300)\n",
    "plt.plot(range(20), s1, label='pred')\n",
    "plt.plot(range(20), s2, label='truth')\n",
    "plt.xlabel(\"step\")\n",
    "plt.ylabel(\"speed\")\n",
    "plt.legend()\n",
    "plt.show()"
   ]
  }
 ],
 "metadata": {
  "kernelspec": {
   "display_name": "Python 3",
   "language": "python",
   "name": "python3"
  },
  "language_info": {
   "codemirror_mode": {
    "name": "ipython",
    "version": 2
   },
   "file_extension": ".py",
   "mimetype": "text/x-python",
   "name": "python",
   "nbconvert_exporter": "python",
   "pygments_lexer": "ipython2",
   "version": "3.10.11"
  }
 },
 "nbformat": 4,
 "nbformat_minor": 0
}
