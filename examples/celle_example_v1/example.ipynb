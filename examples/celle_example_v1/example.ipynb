{
 "cells": [
  {
   "cell_type": "markdown",
   "metadata": {
    "collapsed": false
   },
   "source": [
    "## Before proceeding please download the simulations trip files from https://sync.academiccloud.de/index.php/s/6a5NVqVF7rkI3w4, and extract them into ./config as they are too large to be hosted directly on GitHub"
   ]
  },
  {
   "cell_type": "code",
   "execution_count": 1,
   "metadata": {
    "collapsed": true,
    "ExecuteTime": {
     "end_time": "2023-08-23T10:36:37.522830326Z",
     "start_time": "2023-08-23T10:36:35.854984860Z"
    }
   },
   "outputs": [],
   "source": [
    "import numpy as np\n",
    "\n",
    "from src.simulation.sim_core import simulation_core\n",
    "from src.torch_geo.dataset.adaptive_speed2vec_dataset import adaptive_speed2vec_dataset\n",
    "from src.generator.detector_node_connector import distance_connector_strategy\n",
    "from src.simulation.modules.progress_module import progress_module\n",
    "from src.simulation.modules.simulationFlowControlModule import simulationFlowControlModule\n",
    "from src.torch_geo.model.trainer import model_train\n",
    "from src.utils.math_utils import un_z_score\n",
    "\n",
    "from torch_geometric.loader import DataLoader\n",
    "from matplotlib import pyplot as plt\n",
    "import torch, random, sumolib, traci"
   ]
  },
  {
   "cell_type": "markdown",
   "metadata": {
    "collapsed": false
   },
   "source": [
    "Create and set up settings"
   ]
  },
  {
   "cell_type": "code",
   "execution_count": 4,
   "metadata": {
    "collapsed": false,
    "ExecuteTime": {
     "end_time": "2023-08-23T10:36:55.915833700Z",
     "start_time": "2023-08-23T10:36:55.911033712Z"
    }
   },
   "outputs": [],
   "source": [
    "settings: dict = {\n",
    "    # ----- framework settings -----\n",
    "    \"sumo_exec_path\": \"<path>\",\n",
    "    \"sumo_config_path\": \"./config/osm.sumocfg\",\n",
    "    \"sumo_net_path\": \"./config/osm.net.xml.gz\",\n",
    "\n",
    "    # one day: 86400\n",
    "    # one week: 604800\n",
    "    # 777600\n",
    "    # one month: 2419200\n",
    "    \"sim_length\": 86400,  # total length of the simulation\n",
    "    \"interval_length\": 300,  # size of one aggregation step\n",
    "\n",
    "    # ----- model settings -----\n",
    "    \"N_HIST\": 12,  # for Speed2Vec dataset, number of preceding steps\n",
    "    \"N_PRED\": 9,  # for Speed2Vec dataset, number of prediction steps\n",
    "    'WEIGHT_DECAY': 5e-5,\n",
    "    'INITIAL_LR': 3e-4,\n",
    "    'DROPOUT': 0.6,\n",
    "    'CHECKPOINT_DIR': './runs',\n",
    "\n",
    "    'BATCH_SIZE': 50,\n",
    "    'EPOCHS': 60,\n",
    "    'N_NODE': 274\n",
    "}\n",
    "settings[\"total_graphs\"] = int(settings[\"sim_length\"]) // int(settings[\"interval_length\"])"
   ]
  },
  {
   "cell_type": "markdown",
   "metadata": {
    "collapsed": false
   },
   "source": [
    "Create simulation core object and add observers"
   ]
  },
  {
   "cell_type": "code",
   "execution_count": 5,
   "metadata": {
    "collapsed": false,
    "ExecuteTime": {
     "end_time": "2023-08-23T10:37:04.127550336Z",
     "start_time": "2023-08-23T10:36:57.766496567Z"
    }
   },
   "outputs": [
    {
     "name": "stdout",
     "output_type": "stream",
     "text": [
      " Retrying in 1 seconds\n",
      "***Starting server on port 45049 ***\n"
     ]
    },
    {
     "name": "stderr",
     "output_type": "stream",
     "text": [
      "Warning: Environment variable SUMO_HOME is not set properly, disabling XML validation. Set 'auto' or 'always' for web lookups.\n"
     ]
    },
    {
     "name": "stdout",
     "output_type": "stream",
     "text": [
      "Loading net-file from './config/osm.net.xml.gz' ... done (61ms).\n",
      "Loading additional-files from './config/osm.poly.xml.gz' ... done (10ms).\n",
      "Loading additional-files from './config/detectors_filtered.xml' ... done (2ms).\n",
      "Loading done.\n",
      "Simulation version 1.18.0 started with time: 0.00.\n",
      "[Translation Generator] - Generating dictionaries...\n",
      "[Translation Controller] - Successfully initialized!\n",
      "[Detector Graph Controller] - Generating graph, this can take a while...\n",
      "[Detector Graph Controller] - Graph complete! Nodes: 274 Edges: 2338\n",
      "[Numpy Graph Store] - Created node features: (288, 274)\n",
      "[Numpy Graph Store] - Created edge index: (2, 2338)\n",
      "[Numpy Graph Store] - Successfully initialized!\n",
      "[Numpy Graph Controller] - Initialized!\n",
      "0\n"
     ]
    }
   ],
   "source": [
    "core = simulation_core(settings, distance_connector_strategy(50))\n",
    "\n",
    "observer_1 = progress_module(settings[\"sim_length\"] // 100)\n",
    "observer_2 = simulationFlowControlModule(60)\n",
    "\n",
    "core.add_continuous_observer(observer_1)\n",
    "core.add_continuous_observer(observer_2)"
   ]
  },
  {
   "cell_type": "markdown",
   "metadata": {
    "collapsed": false
   },
   "source": [
    "Start simulation"
   ]
  },
  {
   "cell_type": "code",
   "execution_count": 6,
   "metadata": {
    "collapsed": false,
    "ExecuteTime": {
     "end_time": "2023-08-23T10:38:15.643933891Z",
     "start_time": "2023-08-23T10:37:19.765489003Z"
    }
   },
   "outputs": [
    {
     "name": "stdout",
     "output_type": "stream",
     "text": [
      "----- 2 % -----\n",
      "sim_step: 1729.0\n",
      "last_sim_time: 0.12 seconds\n",
      "scale: 0.1791411531690401\n",
      "ETA: 0.2 minutes\n",
      "----- 3 % -----\n",
      "sim_step: 2593.0\n",
      "last_sim_time: 0.22 seconds\n",
      "scale: 0.17880370768145412\n",
      "ETA: 0.28 minutes\n",
      "----- 4 % -----\n",
      "sim_step: 3457.0\n",
      "last_sim_time: 0.15 seconds\n",
      "scale: 0.162346356184341\n",
      "ETA: 0.26 minutes\n",
      "-----DONG, DONG, DONG-----\n",
      "Passed one hour!\n",
      "Day: 0 Hour: 1\n",
      "Flow between 0.1 and 0.2\n",
      "----- 5 % -----\n",
      "sim_step: 4321.0\n",
      "last_sim_time: 0.13 seconds\n",
      "scale: 0.1918022263930665\n",
      "ETA: 0.25 minutes\n",
      "----- 6 % -----\n",
      "sim_step: 5185.0\n",
      "last_sim_time: 0.13 seconds\n",
      "scale: 0.19867494065745167\n",
      "ETA: 0.24 minutes\n",
      "----- 7 % -----\n",
      "sim_step: 6049.0\n",
      "last_sim_time: 0.13 seconds\n",
      "scale: 0.17049442597579456\n",
      "ETA: 0.23 minutes\n",
      "----- 8 % -----\n",
      "sim_step: 6913.0\n",
      "last_sim_time: 0.18 seconds\n",
      "scale: 0.1575888500682996\n",
      "ETA: 0.23 minutes\n",
      "-----DONG, DONG, DONG-----\n",
      "Passed one hour!\n",
      "Day: 0 Hour: 2\n",
      "Flow between 0.1 and 0.2\n",
      "----- 9 % -----\n",
      "sim_step: 7777.0\n",
      "last_sim_time: 0.15 seconds\n",
      "scale: 0.16155216042287784\n",
      "ETA: 0.23 minutes\n",
      "----- 10 % -----\n",
      "sim_step: 8641.0\n",
      "last_sim_time: 0.13 seconds\n",
      "scale: 0.16991717304650517\n",
      "ETA: 0.22 minutes\n",
      "----- 11 % -----\n",
      "sim_step: 9505.0\n",
      "last_sim_time: 0.14 seconds\n",
      "scale: 0.19821606286051502\n",
      "ETA: 0.22 minutes\n",
      "----- 12 % -----\n",
      "sim_step: 10369.0\n",
      "last_sim_time: 0.13 seconds\n",
      "scale: 0.15834609237505512\n",
      "ETA: 0.22 minutes\n",
      "-----DONG, DONG, DONG-----\n",
      "Passed one hour!\n",
      "Day: 0 Hour: 3\n",
      "Flow between 0.1 and 0.2\n",
      "----- 13 % -----\n",
      "sim_step: 11233.0\n",
      "last_sim_time: 0.15 seconds\n",
      "scale: 0.1059869251079215\n",
      "ETA: 0.21 minutes\n",
      "----- 14 % -----\n",
      "sim_step: 12097.0\n",
      "last_sim_time: 0.14 seconds\n",
      "scale: 0.11174411717331263\n",
      "ETA: 0.21 minutes\n",
      "----- 15 % -----\n",
      "sim_step: 12961.0\n",
      "last_sim_time: 0.13 seconds\n",
      "scale: 0.1060991583422148\n",
      "ETA: 0.21 minutes\n",
      "----- 16 % -----\n",
      "sim_step: 13825.0\n",
      "last_sim_time: 0.14 seconds\n",
      "scale: 0.1779383392569202\n",
      "ETA: 0.2 minutes\n",
      "-----DONG, DONG, DONG-----\n",
      "Passed one hour!\n",
      "Day: 0 Hour: 4\n",
      "Flow between 0.1 and 0.2\n",
      "----- 17 % -----\n",
      "sim_step: 14689.0\n",
      "last_sim_time: 0.11 seconds\n",
      "scale: 0.1636588713554898\n",
      "ETA: 0.2 minutes\n",
      "----- 18 % -----\n",
      "sim_step: 15553.0\n",
      "last_sim_time: 0.14 seconds\n",
      "scale: 0.15480451915435792\n",
      "ETA: 0.2 minutes\n",
      "----- 19 % -----\n",
      "sim_step: 16417.0\n",
      "last_sim_time: 0.13 seconds\n",
      "scale: 0.14305787882927296\n",
      "ETA: 0.19 minutes\n",
      "----- 20 % -----\n",
      "sim_step: 17281.0\n",
      "last_sim_time: 0.13 seconds\n",
      "scale: 0.14847864287979173\n",
      "ETA: 0.19 minutes\n",
      "-----DONG, DONG, DONG-----\n",
      "Passed one hour!\n",
      "Day: 0 Hour: 5\n",
      "Flow between 0.1 and 0.2\n",
      "----- 21 % -----\n",
      "sim_step: 18145.0\n",
      "last_sim_time: 0.13 seconds\n",
      "scale: 0.1247116785199407\n",
      "ETA: 0.19 minutes\n",
      "----- 22 % -----\n",
      "sim_step: 19009.0\n",
      "last_sim_time: 0.13 seconds\n",
      "scale: 0.17793069799834318\n",
      "ETA: 0.18 minutes\n",
      "----- 23 % -----\n",
      "sim_step: 19873.0\n",
      "last_sim_time: 0.12 seconds\n",
      "scale: 0.13565278579057663\n",
      "ETA: 0.18 minutes\n",
      "----- 24 % -----\n",
      "sim_step: 20737.0\n",
      "last_sim_time: 0.13 seconds\n",
      "scale: 0.15226447946285832\n",
      "ETA: 0.18 minutes\n",
      "----- 25 % -----\n",
      "sim_step: 21601.0\n",
      "last_sim_time: 0.12 seconds\n",
      "scale: 0.18143049728859983\n",
      "ETA: 0.17 minutes\n",
      "-----DONG, DONG, DONG-----\n",
      "Passed one hour!\n",
      "Day: 0 Hour: 6\n",
      "Flow between 2.5 and 3.0\n",
      "----- 26 % -----\n",
      "sim_step: 22465.0\n",
      "last_sim_time: 0.6 seconds\n",
      "scale: 2.560928708047319\n",
      "ETA: 0.19 minutes\n",
      "----- 27 % -----\n",
      "sim_step: 23329.0\n",
      "last_sim_time: 1.01 seconds\n",
      "scale: 2.934743107501439\n",
      "ETA: 0.23 minutes\n",
      "----- 28 % -----\n",
      "sim_step: 24193.0\n",
      "last_sim_time: 1.06 seconds\n",
      "scale: 2.7160048257580622\n",
      "ETA: 0.27 minutes\n",
      "----- 29 % -----\n",
      "sim_step: 25057.0\n",
      "last_sim_time: 0.92 seconds\n",
      "scale: 2.93601010144133\n",
      "ETA: 0.29 minutes\n",
      "-----DONG, DONG, DONG-----\n",
      "Passed one hour!\n",
      "Day: 0 Hour: 7\n",
      "Flow between 2.5 and 3.0\n",
      "----- 30 % -----\n",
      "sim_step: 25921.0\n",
      "last_sim_time: 0.98 seconds\n",
      "scale: 2.8007974519567242\n",
      "ETA: 0.32 minutes\n",
      "----- 31 % -----\n",
      "sim_step: 26785.0\n",
      "last_sim_time: 1.05 seconds\n",
      "scale: 2.9178006598608732\n",
      "ETA: 0.34 minutes\n",
      "----- 32 % -----\n",
      "sim_step: 27649.0\n",
      "last_sim_time: 1.32 seconds\n",
      "scale: 2.652332873553662\n",
      "ETA: 0.38 minutes\n",
      "----- 33 % -----\n",
      "sim_step: 28513.0\n",
      "last_sim_time: 1.5 seconds\n",
      "scale: 2.9832437154852816\n",
      "ETA: 0.41 minutes\n",
      "-----DONG, DONG, DONG-----\n",
      "Passed one hour!\n",
      "Day: 0 Hour: 8\n",
      "Flow between 2.5 and 3.0\n",
      "----- 34 % -----\n",
      "sim_step: 29377.0\n",
      "last_sim_time: 1.3 seconds\n",
      "scale: 2.717461363811654\n",
      "ETA: 0.44 minutes\n",
      "----- 35 % -----\n",
      "sim_step: 30241.0\n",
      "last_sim_time: 0.92 seconds\n",
      "scale: 2.6248761731063923\n",
      "ETA: 0.45 minutes\n",
      "----- 36 % -----\n",
      "sim_step: 31105.0\n",
      "last_sim_time: 1.0 seconds\n",
      "scale: 2.852494373790885\n",
      "ETA: 0.46 minutes\n",
      "----- 37 % -----\n",
      "sim_step: 31969.0\n",
      "last_sim_time: 0.99 seconds\n",
      "scale: 2.5949912734395264\n",
      "ETA: 0.47 minutes\n",
      "-----DONG, DONG, DONG-----\n",
      "Passed one hour!\n",
      "Day: 0 Hour: 9\n",
      "Flow between 2.5 and 3.0\n",
      "----- 38 % -----\n",
      "sim_step: 32833.0\n",
      "last_sim_time: 1.06 seconds\n",
      "scale: 2.6347878475394713\n",
      "ETA: 0.48 minutes\n",
      "----- 39 % -----\n",
      "sim_step: 33697.0\n",
      "last_sim_time: 0.95 seconds\n",
      "scale: 2.888283955739105\n",
      "ETA: 0.48 minutes\n",
      "----- 40 % -----\n",
      "sim_step: 34561.0\n",
      "last_sim_time: 0.93 seconds\n",
      "scale: 2.8776492164633205\n",
      "ETA: 0.49 minutes\n",
      "----- 41 % -----\n",
      "sim_step: 35425.0\n",
      "last_sim_time: 0.96 seconds\n",
      "scale: 2.687763123191626\n",
      "ETA: 0.49 minutes\n",
      "-----DONG, DONG, DONG-----\n",
      "Passed one hour!\n",
      "Day: 0 Hour: 10\n",
      "Flow between 1.8 and 2.0\n",
      "----- 42 % -----\n",
      "sim_step: 36289.0\n",
      "last_sim_time: 0.82 seconds\n",
      "scale: 1.9201605242111819\n",
      "ETA: 0.49 minutes\n",
      "----- 43 % -----\n",
      "sim_step: 37153.0\n",
      "last_sim_time: 0.64 seconds\n",
      "scale: 1.860811894453847\n",
      "ETA: 0.48 minutes\n",
      "----- 44 % -----\n",
      "sim_step: 38017.0\n",
      "last_sim_time: 0.63 seconds\n",
      "scale: 1.845985009994175\n",
      "ETA: 0.48 minutes\n",
      "----- 45 % -----\n",
      "sim_step: 38881.0\n",
      "last_sim_time: 0.66 seconds\n",
      "scale: 1.9138567794760395\n",
      "ETA: 0.47 minutes\n",
      "-----DONG, DONG, DONG-----\n",
      "Passed one hour!\n",
      "Day: 0 Hour: 11\n",
      "Flow between 1.8 and 2.0\n",
      "----- 46 % -----\n",
      "sim_step: 39745.0\n",
      "last_sim_time: 0.6 seconds\n",
      "scale: 1.9785279436166072\n",
      "ETA: 0.46 minutes\n",
      "----- 47 % -----\n",
      "sim_step: 40609.0\n",
      "last_sim_time: 0.65 seconds\n",
      "scale: 1.978366410968043\n",
      "ETA: 0.46 minutes\n",
      "----- 48 % -----\n",
      "sim_step: 41473.0\n",
      "last_sim_time: 0.65 seconds\n",
      "scale: 1.9556046961831282\n",
      "ETA: 0.45 minutes\n",
      "----- 49 % -----\n",
      "sim_step: 42337.0\n",
      "last_sim_time: 0.64 seconds\n",
      "scale: 1.9222715923616056\n",
      "ETA: 0.45 minutes\n",
      "----- 50 % -----\n",
      "sim_step: 43201.0\n",
      "last_sim_time: 0.64 seconds\n",
      "scale: 1.8443187308440776\n",
      "ETA: 0.44 minutes\n",
      "-----DONG, DONG, DONG-----\n",
      "Passed one hour!\n",
      "Day: 0 Hour: 12\n",
      "Flow between 1.8 and 2.0\n",
      "----- 51 % -----\n",
      "sim_step: 44065.0\n",
      "last_sim_time: 0.59 seconds\n",
      "scale: 1.9909666455572075\n",
      "ETA: 0.43 minutes\n",
      "----- 52 % -----\n",
      "sim_step: 44929.0\n",
      "last_sim_time: 0.67 seconds\n",
      "scale: 1.8119800699807123\n",
      "ETA: 0.42 minutes\n",
      "----- 53 % -----\n",
      "sim_step: 45793.0\n",
      "last_sim_time: 0.63 seconds\n",
      "scale: 1.9819670921111987\n",
      "ETA: 0.42 minutes\n",
      "----- 54 % -----\n",
      "sim_step: 46657.0\n",
      "last_sim_time: 0.68 seconds\n",
      "scale: 1.8257670548435332\n",
      "ETA: 0.41 minutes\n",
      "-----DONG, DONG, DONG-----\n",
      "Passed one hour!\n",
      "Day: 0 Hour: 13\n",
      "Flow between 1.8 and 2.0\n",
      "----- 55 % -----\n",
      "sim_step: 47521.0\n",
      "last_sim_time: 0.7 seconds\n",
      "scale: 1.8656447945125139\n",
      "ETA: 0.4 minutes\n",
      "----- 56 % -----\n",
      "sim_step: 48385.0\n",
      "last_sim_time: 0.71 seconds\n",
      "scale: 1.87312872848003\n",
      "ETA: 0.4 minutes\n",
      "----- 57 % -----\n",
      "sim_step: 49249.0\n",
      "last_sim_time: 0.68 seconds\n",
      "scale: 1.823922746846685\n",
      "ETA: 0.39 minutes\n",
      "----- 58 % -----\n",
      "sim_step: 50113.0\n",
      "last_sim_time: 0.68 seconds\n",
      "scale: 1.8784474566138303\n",
      "ETA: 0.38 minutes\n",
      "-----DONG, DONG, DONG-----\n",
      "Passed one hour!\n",
      "Day: 0 Hour: 14\n",
      "Flow between 1.8 and 2.0\n",
      "----- 59 % -----\n",
      "sim_step: 50977.0\n",
      "last_sim_time: 0.62 seconds\n",
      "scale: 1.9258372996788764\n",
      "ETA: 0.37 minutes\n",
      "----- 60 % -----\n",
      "sim_step: 51841.0\n",
      "last_sim_time: 0.82 seconds\n",
      "scale: 1.9825274821815624\n",
      "ETA: 0.37 minutes\n",
      "----- 61 % -----\n",
      "sim_step: 52705.0\n",
      "last_sim_time: 0.72 seconds\n",
      "scale: 1.8538261750858804\n",
      "ETA: 0.36 minutes\n",
      "----- 62 % -----\n",
      "sim_step: 53569.0\n",
      "last_sim_time: 0.63 seconds\n",
      "scale: 1.9509233310730423\n",
      "ETA: 0.35 minutes\n",
      "-----DONG, DONG, DONG-----\n",
      "Passed one hour!\n",
      "Day: 0 Hour: 15\n",
      "Flow between 1.8 and 2.0\n",
      "----- 63 % -----\n",
      "sim_step: 54433.0\n",
      "last_sim_time: 0.65 seconds\n",
      "scale: 1.920028651874104\n",
      "ETA: 0.34 minutes\n",
      "----- 64 % -----\n",
      "sim_step: 55297.0\n",
      "last_sim_time: 0.66 seconds\n",
      "scale: 1.8181205544985986\n",
      "ETA: 0.34 minutes\n",
      "----- 65 % -----\n",
      "sim_step: 56161.0\n",
      "last_sim_time: 0.62 seconds\n",
      "scale: 1.9218242064256217\n",
      "ETA: 0.33 minutes\n",
      "----- 66 % -----\n",
      "sim_step: 57025.0\n",
      "last_sim_time: 0.71 seconds\n",
      "scale: 1.917283598509659\n",
      "ETA: 0.32 minutes\n",
      "-----DONG, DONG, DONG-----\n",
      "Passed one hour!\n",
      "Day: 0 Hour: 16\n",
      "Flow between 1.8 and 2.0\n",
      "----- 67 % -----\n",
      "sim_step: 57889.0\n",
      "last_sim_time: 0.6 seconds\n",
      "scale: 1.9526983129177728\n",
      "ETA: 0.31 minutes\n",
      "----- 68 % -----\n",
      "sim_step: 58753.0\n",
      "last_sim_time: 0.64 seconds\n",
      "scale: 1.9709367632455672\n",
      "ETA: 0.3 minutes\n",
      "----- 69 % -----\n",
      "sim_step: 59617.0\n",
      "last_sim_time: 0.7 seconds\n",
      "scale: 1.9907717510884617\n",
      "ETA: 0.29 minutes\n",
      "----- 70 % -----\n",
      "sim_step: 60481.0\n",
      "last_sim_time: 0.64 seconds\n",
      "scale: 1.9528400388351441\n",
      "ETA: 0.28 minutes\n",
      "-----DONG, DONG, DONG-----\n",
      "Passed one hour!\n",
      "Day: 0 Hour: 17\n",
      "Flow between 2.5 and 3.0\n",
      "----- 71 % -----\n",
      "sim_step: 61345.0\n",
      "last_sim_time: 0.61 seconds\n",
      "scale: 2.731090009376899\n",
      "ETA: 0.27 minutes\n",
      "----- 72 % -----\n",
      "sim_step: 62209.0\n",
      "last_sim_time: 0.9 seconds\n",
      "scale: 2.614282043124786\n",
      "ETA: 0.27 minutes\n",
      "----- 73 % -----\n",
      "sim_step: 63073.0\n",
      "last_sim_time: 1.01 seconds\n",
      "scale: 2.875299534761042\n",
      "ETA: 0.26 minutes\n",
      "----- 74 % -----\n",
      "sim_step: 63937.0\n",
      "last_sim_time: 1.01 seconds\n",
      "scale: 2.78490883595381\n",
      "ETA: 0.25 minutes\n",
      "----- 75 % -----\n",
      "sim_step: 64801.0\n",
      "last_sim_time: 1.05 seconds\n",
      "scale: 2.6090231233373484\n",
      "ETA: 0.25 minutes\n",
      "-----DONG, DONG, DONG-----\n",
      "Passed one hour!\n",
      "Day: 0 Hour: 18\n",
      "Flow between 2.5 and 3.0\n",
      "----- 76 % -----\n",
      "sim_step: 65665.0\n",
      "last_sim_time: 0.85 seconds\n",
      "scale: 2.9651011142537578\n",
      "ETA: 0.24 minutes\n",
      "----- 77 % -----\n",
      "sim_step: 66529.0\n",
      "last_sim_time: 0.89 seconds\n",
      "scale: 2.959804415870578\n",
      "ETA: 0.23 minutes\n",
      "----- 78 % -----\n",
      "sim_step: 67393.0\n",
      "last_sim_time: 0.91 seconds\n",
      "scale: 2.8660412847792998\n",
      "ETA: 0.22 minutes\n",
      "----- 79 % -----\n",
      "sim_step: 68257.0\n",
      "last_sim_time: 1.25 seconds\n",
      "scale: 2.8023250837471183\n",
      "ETA: 0.21 minutes\n",
      "-----DONG, DONG, DONG-----\n",
      "Passed one hour!\n",
      "Day: 0 Hour: 19\n",
      "Flow between 1.1 and 1.4\n",
      "----- 80 % -----\n",
      "sim_step: 69121.0\n",
      "last_sim_time: 1.04 seconds\n",
      "scale: 1.2901207702416169\n",
      "ETA: 0.21 minutes\n",
      "----- 81 % -----\n",
      "sim_step: 69985.0\n",
      "last_sim_time: 0.45 seconds\n",
      "scale: 1.3529834506428384\n",
      "ETA: 0.19 minutes\n",
      "----- 82 % -----\n",
      "sim_step: 70849.0\n",
      "last_sim_time: 0.48 seconds\n",
      "scale: 1.3344835584719883\n",
      "ETA: 0.18 minutes\n",
      "----- 83 % -----\n",
      "sim_step: 71713.0\n",
      "last_sim_time: 0.47 seconds\n",
      "scale: 1.2777687487233835\n",
      "ETA: 0.17 minutes\n",
      "-----DONG, DONG, DONG-----\n",
      "Passed one hour!\n",
      "Day: 0 Hour: 20\n",
      "Flow between 1.1 and 1.4\n",
      "----- 84 % -----\n",
      "sim_step: 72577.0\n",
      "last_sim_time: 0.4 seconds\n",
      "scale: 1.2385101546115225\n",
      "ETA: 0.16 minutes\n",
      "----- 85 % -----\n",
      "sim_step: 73441.0\n",
      "last_sim_time: 0.44 seconds\n",
      "scale: 1.103459348340261\n",
      "ETA: 0.15 minutes\n",
      "----- 86 % -----\n",
      "sim_step: 74305.0\n",
      "last_sim_time: 0.47 seconds\n",
      "scale: 1.2103467690847312\n",
      "ETA: 0.14 minutes\n",
      "----- 87 % -----\n",
      "sim_step: 75169.0\n",
      "last_sim_time: 0.47 seconds\n",
      "scale: 1.2252987521736634\n",
      "ETA: 0.13 minutes\n",
      "-----DONG, DONG, DONG-----\n",
      "Passed one hour!\n",
      "Day: 0 Hour: 21\n",
      "Flow between 1.1 and 1.4\n",
      "----- 88 % -----\n",
      "sim_step: 76033.0\n",
      "last_sim_time: 0.5 seconds\n",
      "scale: 1.173318219316595\n",
      "ETA: 0.12 minutes\n",
      "----- 89 % -----\n",
      "sim_step: 76897.0\n",
      "last_sim_time: 0.5 seconds\n",
      "scale: 1.1133105480032983\n",
      "ETA: 0.11 minutes\n",
      "----- 90 % -----\n",
      "sim_step: 77761.0\n",
      "last_sim_time: 0.5 seconds\n",
      "scale: 1.2109322999952847\n",
      "ETA: 0.1 minutes\n",
      "----- 91 % -----\n",
      "sim_step: 78625.0\n",
      "last_sim_time: 0.5 seconds\n",
      "scale: 1.3065823357918531\n",
      "ETA: 0.09 minutes\n",
      "-----DONG, DONG, DONG-----\n",
      "Passed one hour!\n",
      "Day: 0 Hour: 22\n",
      "Flow between 0.1 and 0.2\n",
      "----- 92 % -----\n",
      "sim_step: 79489.0\n",
      "last_sim_time: 0.41 seconds\n",
      "scale: 0.11580033947991768\n",
      "ETA: 0.08 minutes\n",
      "----- 93 % -----\n",
      "sim_step: 80353.0\n",
      "last_sim_time: 0.14 seconds\n",
      "scale: 0.1593452432142323\n",
      "ETA: 0.07 minutes\n",
      "----- 94 % -----\n",
      "sim_step: 81217.0\n",
      "last_sim_time: 0.15 seconds\n",
      "scale: 0.14029975811633588\n",
      "ETA: 0.06 minutes\n",
      "----- 95 % -----\n",
      "sim_step: 82081.0\n",
      "last_sim_time: 0.13 seconds\n",
      "scale: 0.11782916253153998\n",
      "ETA: 0.05 minutes\n",
      "-----DONG, DONG, DONG-----\n",
      "Passed one hour!\n",
      "Day: 0 Hour: 23\n",
      "Flow between 0.1 and 0.2\n",
      "----- 96 % -----\n",
      "sim_step: 82945.0\n",
      "last_sim_time: 0.13 seconds\n",
      "scale: 0.16755806275983565\n",
      "ETA: 0.04 minutes\n",
      "----- 97 % -----\n",
      "sim_step: 83809.0\n",
      "last_sim_time: 0.13 seconds\n",
      "scale: 0.13739410350879908\n",
      "ETA: 0.03 minutes\n",
      "----- 98 % -----\n",
      "sim_step: 84673.0\n",
      "last_sim_time: 0.14 seconds\n",
      "scale: 0.1317391128054582\n",
      "ETA: 0.02 minutes\n",
      "----- 99 % -----\n",
      "sim_step: 85537.0\n",
      "last_sim_time: 0.13 seconds\n",
      "scale: 0.10549201529096847\n",
      "ETA: 0.01 minutes\n"
     ]
    }
   ],
   "source": [
    "core.start_simulation()"
   ]
  },
  {
   "cell_type": "markdown",
   "metadata": {
    "collapsed": false
   },
   "source": [
    "Crate dataset from data collected by DeepSUMO"
   ]
  },
  {
   "cell_type": "code",
   "execution_count": 7,
   "metadata": {
    "collapsed": false,
    "ExecuteTime": {
     "end_time": "2023-08-23T10:38:40.664493809Z",
     "start_time": "2023-08-23T10:38:40.586812919Z"
    }
   },
   "outputs": [
    {
     "name": "stdout",
     "output_type": "stream",
     "text": [
      "./processed/test_data.pt\n",
      "torch.Size([2, 2338])\n",
      "torch.int32\n"
     ]
    }
   ],
   "source": [
    "data = adaptive_speed2vec_dataset(core.get_data(), settings[\"total_graphs\"])\n",
    "data.process()"
   ]
  },
  {
   "cell_type": "markdown",
   "metadata": {
    "collapsed": false
   },
   "source": [
    "Split dataset into data loaders"
   ]
  },
  {
   "cell_type": "code",
   "execution_count": 39,
   "metadata": {
    "collapsed": false,
    "ExecuteTime": {
     "end_time": "2023-08-23T10:39:14.524981383Z",
     "start_time": "2023-08-23T10:39:14.441653934Z"
    }
   },
   "outputs": [
    {
     "name": "stdout",
     "output_type": "stream",
     "text": [
      "(287, 274)\n",
      "58\n"
     ]
    },
    {
     "data": {
      "text/plain": "<Figure size 640x480 with 1 Axes>",
      "image/png": "[encoded data removed]"
     },
     "metadata": {},
     "output_type": "display_data"
    }
   ],
   "source": [
    "import numpy as np\n",
    "\n",
    "l = []\n",
    "l2 = []\n",
    "buffer = []\n",
    "s_id = random.randint(0, settings[\"N_NODE\"] - 1)\n",
    "\n",
    "print(core.get_data().numpy.get_speed_node_features().shape)\n",
    "for i, point in enumerate(core.get_data().numpy.get_speed_node_features()):\n",
    "    if i % 10 == 0:\n",
    "        l2.append(np.average(buffer))\n",
    "        buffer.clear()\n",
    "    buffer.append(point[s_id] * 3.6)\n",
    "    #print(point[12])\n",
    "    l.append(point[s_id] * 3.6)\n",
    "\n",
    "l = l[4:250]\n",
    "\n",
    "print(s_id)\n",
    "sumo_id = core.get_data().translation.get_detector_id(s_id)\n",
    "target_lane_id = traci.inductionloop.getLaneID(sumo_id)\n",
    "target_lane: sumolib.net.lane.Lane = core.get_data().net.getLane(target_lane_id)\n",
    "target_edge: sumolib.net.edge.Edge = target_lane.getEdge()\n",
    "\n",
    "plt.title(target_edge.getName())\n",
    "plt.plot(range(len(l)), l)\n",
    "plt.xlabel(\"interval\")\n",
    "plt.ylabel(\"speed\")\n",
    "plt.show()"
   ]
  },
  {
   "cell_type": "markdown",
   "metadata": {
    "collapsed": false
   },
   "source": [
    "0, 268"
   ]
  },
  {
   "cell_type": "code",
   "execution_count": 57,
   "metadata": {
    "collapsed": false,
    "ExecuteTime": {
     "end_time": "2023-08-23T10:39:56.321914753Z",
     "start_time": "2023-08-23T10:39:56.317892039Z"
    }
   },
   "outputs": [],
   "source": [
    "train_threshold = int(len(data) * 0.9)\n",
    "valid_threshold = int(len(data) * 0.9)\n",
    "test_threshold = int(len(data) * 1.0)\n",
    "\n",
    "train_loader = DataLoader(data[:train_threshold], shuffle=True, batch_size=settings[\"BATCH_SIZE\"])\n",
    "valid_loader = DataLoader(data[train_threshold:test_threshold], shuffle=True, batch_size=settings[\"BATCH_SIZE\"])\n",
    "test_loader = DataLoader(data[:], shuffle=False, batch_size=settings[\"BATCH_SIZE\"])"
   ]
  },
  {
   "cell_type": "markdown",
   "metadata": {
    "collapsed": false
   },
   "source": [
    "Set up device"
   ]
  },
  {
   "cell_type": "code",
   "execution_count": 56,
   "metadata": {
    "collapsed": false,
    "ExecuteTime": {
     "end_time": "2023-08-23T10:39:54.960019031Z",
     "start_time": "2023-08-23T10:39:54.957609487Z"
    }
   },
   "outputs": [
    {
     "name": "stdout",
     "output_type": "stream",
     "text": [
      "Using cuda\n"
     ]
    }
   ],
   "source": [
    "device = 'cuda' if torch.cuda.is_available() else 'cpu'\n",
    "print(f\"Using {device}\")"
   ]
  },
  {
   "cell_type": "markdown",
   "metadata": {
    "collapsed": false
   },
   "source": [
    "Train the model\n",
    "\n",
    "The model used in this example is modified version of the ST-GAT model implementation by [Julie Wang](https://github.com/jswang), [Amelia](https://github.com/amelia22974) and [Tracy Cai](https://github.com/tracy-cai) which can be found [here](https://github.com/jswang/stgat_traffic_prediction).  "
   ]
  },
  {
   "cell_type": "code",
   "execution_count": 42,
   "metadata": {
    "collapsed": false,
    "ExecuteTime": {
     "end_time": "2023-08-23T10:39:26.342444272Z",
     "start_time": "2023-08-23T10:39:20.748380160Z"
    }
   },
   "outputs": [
    {
     "name": "stderr",
     "output_type": "stream",
     "text": [
      "Epoch 0: 100%|██████████| 5/5 [00:00<00:00, 10.89it/s]\n"
     ]
    },
    {
     "name": "stdout",
     "output_type": "stream",
     "text": [
      "5\n",
      "Train, MAE: 1.9260221719741821, RMSE: 2.5830018520355225, MAPE: 18.91611099243164\n",
      "1\n",
      "Valid, MAE: 1.8432965278625488, RMSE: 2.4855101108551025, MAPE: 18.251419067382812\n"
     ]
    },
    {
     "name": "stderr",
     "output_type": "stream",
     "text": [
      "Epoch 1: 100%|██████████| 5/5 [00:00<00:00, 98.12it/s]\n",
      "Epoch 2: 100%|██████████| 5/5 [00:00<00:00, 102.38it/s]\n",
      "Epoch 3: 100%|██████████| 5/5 [00:00<00:00, 106.41it/s]\n",
      "Epoch 4: 100%|██████████| 5/5 [00:00<00:00, 110.37it/s]\n",
      "Epoch 5: 100%|██████████| 5/5 [00:00<00:00, 107.22it/s]\n"
     ]
    },
    {
     "name": "stdout",
     "output_type": "stream",
     "text": [
      "5\n",
      "Train, MAE: 1.5371683835983276, RMSE: 2.2133023738861084, MAPE: 15.2896728515625\n",
      "1\n",
      "Valid, MAE: 1.4247630834579468, RMSE: 2.094492197036743, MAPE: 14.394597053527832\n"
     ]
    },
    {
     "name": "stderr",
     "output_type": "stream",
     "text": [
      "Epoch 6: 100%|██████████| 5/5 [00:00<00:00, 109.04it/s]\n",
      "Epoch 7: 100%|██████████| 5/5 [00:00<00:00, 107.12it/s]\n",
      "Epoch 8: 100%|██████████| 5/5 [00:00<00:00, 110.21it/s]\n",
      "Epoch 9: 100%|██████████| 5/5 [00:00<00:00, 108.78it/s]\n",
      "Epoch 10: 100%|██████████| 5/5 [00:00<00:00, 106.22it/s]\n"
     ]
    },
    {
     "name": "stdout",
     "output_type": "stream",
     "text": [
      "5\n",
      "Train, MAE: 0.797206699848175, RMSE: 1.1621036529541016, MAPE: 7.113592624664307\n",
      "1\n",
      "Valid, MAE: 0.6298772096633911, RMSE: 0.9450047612190247, MAPE: 5.7516984939575195\n"
     ]
    },
    {
     "name": "stderr",
     "output_type": "stream",
     "text": [
      "Epoch 11: 100%|██████████| 5/5 [00:00<00:00, 111.09it/s]\n",
      "Epoch 12: 100%|██████████| 5/5 [00:00<00:00, 109.37it/s]\n",
      "Epoch 13: 100%|██████████| 5/5 [00:00<00:00, 103.50it/s]\n",
      "Epoch 14: 100%|██████████| 5/5 [00:00<00:00, 102.65it/s]\n",
      "Epoch 15: 100%|██████████| 5/5 [00:00<00:00, 109.09it/s]\n"
     ]
    },
    {
     "name": "stdout",
     "output_type": "stream",
     "text": [
      "5\n",
      "Train, MAE: 0.6985650062561035, RMSE: 0.9848556518554688, MAPE: 6.327796459197998\n",
      "1\n",
      "Valid, MAE: 0.5526415109634399, RMSE: 0.7643197178840637, MAPE: 5.155633926391602\n"
     ]
    },
    {
     "name": "stderr",
     "output_type": "stream",
     "text": [
      "Epoch 16: 100%|██████████| 5/5 [00:00<00:00, 110.09it/s]\n",
      "Epoch 17: 100%|██████████| 5/5 [00:00<00:00, 112.71it/s]\n",
      "Epoch 18: 100%|██████████| 5/5 [00:00<00:00, 114.39it/s]\n",
      "Epoch 19: 100%|██████████| 5/5 [00:00<00:00, 112.32it/s]\n",
      "Epoch 20: 100%|██████████| 5/5 [00:00<00:00, 112.91it/s]\n"
     ]
    },
    {
     "name": "stdout",
     "output_type": "stream",
     "text": [
      "5\n",
      "Train, MAE: 0.6788520812988281, RMSE: 0.9574567675590515, MAPE: 6.204658508300781\n",
      "1\n",
      "Valid, MAE: 0.5333462357521057, RMSE: 0.7443042993545532, MAPE: 5.003249168395996\n"
     ]
    },
    {
     "name": "stderr",
     "output_type": "stream",
     "text": [
      "Epoch 21: 100%|██████████| 5/5 [00:00<00:00, 110.70it/s]\n",
      "Epoch 22: 100%|██████████| 5/5 [00:00<00:00, 105.73it/s]\n",
      "Epoch 23: 100%|██████████| 5/5 [00:00<00:00, 109.48it/s]\n",
      "Epoch 24: 100%|██████████| 5/5 [00:00<00:00, 113.37it/s]\n",
      "Epoch 25: 100%|██████████| 5/5 [00:00<00:00, 112.96it/s]\n"
     ]
    },
    {
     "name": "stdout",
     "output_type": "stream",
     "text": [
      "5\n",
      "Train, MAE: 0.6710476875305176, RMSE: 0.9501351714134216, MAPE: 6.1673479080200195\n",
      "1\n",
      "Valid, MAE: 0.5289813876152039, RMSE: 0.7379909753799438, MAPE: 4.9806294441223145\n"
     ]
    },
    {
     "name": "stderr",
     "output_type": "stream",
     "text": [
      "Epoch 26: 100%|██████████| 5/5 [00:00<00:00, 113.90it/s]\n",
      "Epoch 27: 100%|██████████| 5/5 [00:00<00:00, 88.69it/s]\n",
      "Epoch 28: 100%|██████████| 5/5 [00:00<00:00, 102.76it/s]\n",
      "Epoch 29: 100%|██████████| 5/5 [00:00<00:00, 83.18it/s]\n",
      "Epoch 30: 100%|██████████| 5/5 [00:00<00:00, 114.12it/s]\n"
     ]
    },
    {
     "name": "stdout",
     "output_type": "stream",
     "text": [
      "5\n",
      "Train, MAE: 0.6781182289123535, RMSE: 0.9565231204032898, MAPE: 6.233455657958984\n",
      "1\n",
      "Valid, MAE: 0.5239640474319458, RMSE: 0.7352849841117859, MAPE: 4.951942443847656\n"
     ]
    },
    {
     "name": "stderr",
     "output_type": "stream",
     "text": [
      "Epoch 31: 100%|██████████| 5/5 [00:00<00:00, 114.84it/s]\n",
      "Epoch 32: 100%|██████████| 5/5 [00:00<00:00, 112.67it/s]\n",
      "Epoch 33: 100%|██████████| 5/5 [00:00<00:00, 107.42it/s]\n",
      "Epoch 34: 100%|██████████| 5/5 [00:00<00:00, 110.29it/s]\n",
      "Epoch 35: 100%|██████████| 5/5 [00:00<00:00, 109.20it/s]\n"
     ]
    },
    {
     "name": "stdout",
     "output_type": "stream",
     "text": [
      "5\n",
      "Train, MAE: 0.6903829574584961, RMSE: 0.9710914492607117, MAPE: 6.267355442047119\n",
      "1\n",
      "Valid, MAE: 0.5275841951370239, RMSE: 0.7365560531616211, MAPE: 4.969051837921143\n"
     ]
    },
    {
     "name": "stderr",
     "output_type": "stream",
     "text": [
      "Epoch 36: 100%|██████████| 5/5 [00:00<00:00, 111.48it/s]\n",
      "Epoch 37: 100%|██████████| 5/5 [00:00<00:00, 111.09it/s]\n",
      "Epoch 38: 100%|██████████| 5/5 [00:00<00:00, 111.23it/s]\n",
      "Epoch 39: 100%|██████████| 5/5 [00:00<00:00, 111.46it/s]\n",
      "Epoch 40: 100%|██████████| 5/5 [00:00<00:00, 110.24it/s]\n"
     ]
    },
    {
     "name": "stdout",
     "output_type": "stream",
     "text": [
      "5\n",
      "Train, MAE: 0.6824418902397156, RMSE: 0.9635106325149536, MAPE: 6.207705974578857\n",
      "1\n",
      "Valid, MAE: 0.5263136029243469, RMSE: 0.7346415519714355, MAPE: 4.953463077545166\n"
     ]
    },
    {
     "name": "stderr",
     "output_type": "stream",
     "text": [
      "Epoch 41: 100%|██████████| 5/5 [00:00<00:00, 112.54it/s]\n",
      "Epoch 42: 100%|██████████| 5/5 [00:00<00:00, 112.68it/s]\n",
      "Epoch 43: 100%|██████████| 5/5 [00:00<00:00, 112.45it/s]\n",
      "Epoch 44: 100%|██████████| 5/5 [00:00<00:00, 113.01it/s]\n",
      "Epoch 45: 100%|██████████| 5/5 [00:00<00:00, 110.30it/s]\n"
     ]
    },
    {
     "name": "stdout",
     "output_type": "stream",
     "text": [
      "5\n",
      "Train, MAE: 0.686381995677948, RMSE: 0.9663559198379517, MAPE: 6.2464494705200195\n",
      "1\n",
      "Valid, MAE: 0.5277758836746216, RMSE: 0.7367146015167236, MAPE: 4.970078945159912\n"
     ]
    },
    {
     "name": "stderr",
     "output_type": "stream",
     "text": [
      "Epoch 46: 100%|██████████| 5/5 [00:00<00:00, 109.47it/s]\n",
      "Epoch 47: 100%|██████████| 5/5 [00:00<00:00, 109.14it/s]\n",
      "Epoch 48: 100%|██████████| 5/5 [00:00<00:00, 112.94it/s]\n",
      "Epoch 49: 100%|██████████| 5/5 [00:00<00:00, 112.35it/s]\n",
      "Epoch 50: 100%|██████████| 5/5 [00:00<00:00, 110.10it/s]\n"
     ]
    },
    {
     "name": "stdout",
     "output_type": "stream",
     "text": [
      "5\n",
      "Train, MAE: 0.6586772799491882, RMSE: 0.9334012866020203, MAPE: 6.014371395111084\n",
      "1\n",
      "Valid, MAE: 0.5328360795974731, RMSE: 0.7395591139793396, MAPE: 5.0037922859191895\n"
     ]
    },
    {
     "name": "stderr",
     "output_type": "stream",
     "text": [
      "Epoch 51: 100%|██████████| 5/5 [00:00<00:00, 110.58it/s]\n",
      "Epoch 52: 100%|██████████| 5/5 [00:00<00:00, 110.28it/s]\n",
      "Epoch 53: 100%|██████████| 5/5 [00:00<00:00, 110.83it/s]\n",
      "Epoch 54: 100%|██████████| 5/5 [00:00<00:00, 114.15it/s]\n",
      "Epoch 55: 100%|██████████| 5/5 [00:00<00:00, 114.03it/s]\n"
     ]
    },
    {
     "name": "stdout",
     "output_type": "stream",
     "text": [
      "5\n",
      "Train, MAE: 0.6182188987731934, RMSE: 0.8822941780090332, MAPE: 5.611080169677734\n",
      "1\n",
      "Valid, MAE: 0.5399738550186157, RMSE: 0.7424121499061584, MAPE: 5.025391578674316\n"
     ]
    },
    {
     "name": "stderr",
     "output_type": "stream",
     "text": [
      "Epoch 56: 100%|██████████| 5/5 [00:00<00:00, 112.48it/s]\n",
      "Epoch 57: 100%|██████████| 5/5 [00:00<00:00, 110.74it/s]\n",
      "Epoch 58: 100%|██████████| 5/5 [00:00<00:00, 110.20it/s]\n",
      "Epoch 59: 100%|██████████| 5/5 [00:00<00:00, 111.98it/s]\n"
     ]
    }
   ],
   "source": [
    "model = model_train(train_loader, valid_loader, settings, device)"
   ]
  },
  {
   "cell_type": "markdown",
   "metadata": {
    "collapsed": false
   },
   "source": [
    "Get predictions on testing dataset and organize them in a way, so that they can be easily plotted"
   ]
  },
  {
   "cell_type": "code",
   "execution_count": 62,
   "metadata": {
    "collapsed": false,
    "ExecuteTime": {
     "end_time": "2023-08-23T10:40:06.271106743Z",
     "start_time": "2023-08-23T10:40:06.234605611Z"
    }
   },
   "outputs": [],
   "source": [
    "model.eval()\n",
    "model.to(device)\n",
    "\n",
    "for i, batch in enumerate(test_loader):\n",
    "    # get predictions from model\n",
    "    # shape -> (batch_size * num_nodes, n_pred/n_hist)\n",
    "    batch = batch.to(device)\n",
    "    with torch.no_grad():\n",
    "        pred = model(batch, device)\n",
    "    truth = batch.y.view(pred.shape)\n",
    "    \n",
    "    # all values have been normalized using the z-score method,\n",
    "    # so they have to be unnormalized again for evaluation\n",
    "    truth = un_z_score(truth, test_loader.dataset.mean,\n",
    "                       test_loader.dataset.std_dev)\n",
    "    pred = un_z_score(pred, test_loader.dataset.mean,\n",
    "                      test_loader.dataset.std_dev)\n",
    "\n",
    "    truth = batch.y.view(pred.shape)\n",
    "    if i == 0:\n",
    "        # initialize collection variable with zeroes on first batch\n",
    "        # shape -> (num_batches, batch_size * num_nodes, n_pred/n_hist)\n",
    "        y_pred = torch.zeros(len(test_loader), test_loader.batch_size * settings[\"N_NODE\"], pred.shape[1])\n",
    "        y_truth = torch.zeros(len(test_loader), test_loader.batch_size * settings[\"N_NODE\"], pred.shape[1])\n",
    "    # append data from current batch to data from other batches \n",
    "    #\n",
    "    # Only append until the true length of the batch in the second dimension in case\n",
    "    # there are less than the max size of possible elements in the batch (can\n",
    "    # only happen on the last batch)\n",
    "    y_pred[i, :pred.shape[0], :] = pred\n",
    "    y_truth[i, :pred.shape[0], :] = truth\n",
    "\n",
    "# reshape into a more readable format \n",
    "# (num_batches, batch_size * num_nodes, n_pred/n_hist) \n",
    "# -> (num_intervals, n_node, n_pred/n_hist)\n",
    "y_pred = y_pred.reshape(len(test_loader) * 50,\n",
    "                        settings[\"N_NODE\"], 9)\n",
    "y_truth = y_truth.reshape(len(test_loader) * 50,\n",
    "                          settings[\"N_NODE\"], 9)\n",
    "\n",
    "# cut off the last elements if there are fewer data points in the data as \n",
    "# maximum batch-size (because they are 0)\n",
    "y_pred = y_pred[:len(test_loader.dataset), :, :]\n",
    "y_truth = y_truth[:len(test_loader.dataset), :, :]\n",
    "\n",
    "y_truth = un_z_score(y_truth, data.mean, data.std_dev)"
   ]
  },
  {
   "cell_type": "markdown",
   "metadata": {
    "collapsed": false
   },
   "source": [
    "Plot predictions and truth of a random detector"
   ]
  },
  {
   "cell_type": "code",
   "execution_count": 81,
   "metadata": {
    "collapsed": false,
    "ExecuteTime": {
     "end_time": "2023-08-23T10:40:36.764686726Z",
     "start_time": "2023-08-23T10:40:36.640532411Z"
    }
   },
   "outputs": [
    {
     "name": "stdout",
     "output_type": "stream",
     "text": [
      "672\n"
     ]
    },
    {
     "data": {
      "text/plain": "<Figure size 640x480 with 1 Axes>",
      "image/png": "[encoded data removed]"
     },
     "metadata": {},
     "output_type": "display_data"
    }
   ],
   "source": [
    "s1 = []\n",
    "s2 = []\n",
    "# get a random node\n",
    "target = random.randint(0, settings[\"N_NODE\"] - 1)\n",
    "#print(core._data.translation.get_order())\n",
    "#target = core._data.translation.get_index(\"98\")\n",
    "\n",
    "# get name of street associated with chosen detector\n",
    "sumo_id = core.get_data().translation.get_detector_id(target)\n",
    "target_lane_id = traci.inductionloop.getLaneID(sumo_id)\n",
    "target_lane: sumolib.net.lane.Lane = core.get_data().net.getLane(target_lane_id)\n",
    "target_edge: sumolib.net.edge.Edge = target_lane.getEdge()\n",
    "\n",
    "for i in range(200):\n",
    "    s1.append(y_pred[i][target][0])\n",
    "    s2.append(y_truth[i][target][0])\n",
    "\n",
    "print(sumo_id)\n",
    "#print(y_pred[:][target])\n",
    "#print(y_truth[:][target])\n",
    "\n",
    "plt.title(target_edge.getName())\n",
    "#plt.figure(figsize=(10,5), dpi=300)\n",
    "plt.plot(range(200), s1, label='pred')\n",
    "plt.plot(range(200), s2, label='truth')\n",
    "plt.xlabel(\"step\")\n",
    "plt.ylabel(\"speed\")\n",
    "plt.legend()\n",
    "plt.show()"
   ]
  }
 ],
 "metadata": {
  "kernelspec": {
   "display_name": "Python 3",
   "language": "python",
   "name": "python3"
  },
  "language_info": {
   "codemirror_mode": {
    "name": "ipython",
    "version": 2
   },
   "file_extension": ".py",
   "mimetype": "text/x-python",
   "name": "python",
   "nbconvert_exporter": "python",
   "pygments_lexer": "ipython2",
   "version": "3.10.11"
  }
 },
 "nbformat": 4,
 "nbformat_minor": 0
}
