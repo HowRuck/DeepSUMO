{
 "cells": [
  {
   "cell_type": "markdown",
   "source": [
    "## Before proceeding please download the simulations trip files from https://sync.academiccloud.de/index.php/s/0FqlsyTD8BvQDtl, and extract them into ./config as they are too large to be hosted directly on GitHub"
   ],
   "metadata": {
    "collapsed": false
   }
  },
  {
   "cell_type": "code",
   "execution_count": 1,
   "metadata": {
    "collapsed": true,
    "ExecuteTime": {
     "end_time": "2023-08-06T09:35:13.558025599Z",
     "start_time": "2023-08-06T09:35:08.012007901Z"
    }
   },
   "outputs": [],
   "source": [
    "import numpy as np\n",
    "\n",
    "from src.simulation.sim_core import simulation_core\n",
    "from src.torch_geo.dataset.adaptive_speed2vec_dataset import adaptive_speed2vec_dataset\n",
    "from src.generator.detector_node_connector import distance_connector_strategy\n",
    "from src.simulation.modules.progress_module import progress_module\n",
    "from src.simulation.modules.simulationFlowControlModule import simulationFlowControlModule\n",
    "from src.torch_geo.model.trainer import model_train\n",
    "from src.utils.math_utils import un_z_score\n",
    "\n",
    "from torch_geometric.loader import DataLoader\n",
    "from matplotlib import pyplot as plt\n",
    "import torch, random, sumolib, traci"
   ]
  },
  {
   "cell_type": "markdown",
   "source": [
    "Create and set up settings"
   ],
   "metadata": {
    "collapsed": false
   }
  },
  {
   "cell_type": "code",
   "execution_count": 2,
   "outputs": [],
   "source": [
    "settings: dict = {\n",
    "    # ----- framework settings -----\n",
    "    \"sumo_exec_path\": \"/home/howruck/Documents/GitHub/sumo/bin/sumo\",\n",
    "    \"sumo_config_path\": \"/home/howruck/Documents/DeepSUMO/examples/celle_example_v1/config/osm.sumocfg\",\n",
    "    \"sumo_net_path\": \"/home/howruck/Documents/DeepSUMO/examples/celle_example_v1/config/osm.net.xml.gz\",\n",
    "\n",
    "    # one day: 86400\n",
    "    # one week: 604800\n",
    "    # 777600\n",
    "    # one month: 2419200\n",
    "    \"sim_length\": 86400,  # total length of the simulation\n",
    "    \"interval_length\": 300,  # size of one aggregation step\n",
    "\n",
    "    # ----- model settings -----\n",
    "    \"N_HIST\": 12,  # for Speed2Vec dataset, number of preceding steps\n",
    "    \"N_PRED\": 9,  # for Speed2Vec dataset, number of prediction steps\n",
    "    'WEIGHT_DECAY': 5e-5,\n",
    "    'INITIAL_LR': 3e-4,\n",
    "    'DROPOUT': 0.6,\n",
    "    'CHECKPOINT_DIR': './runs',\n",
    "\n",
    "    'BATCH_SIZE': 50,\n",
    "    'EPOCHS': 60,\n",
    "    'N_NODE': 274\n",
    "}\n",
    "settings[\"total_graphs\"] = int(settings[\"sim_length\"]) // int(settings[\"interval_length\"])"
   ],
   "metadata": {
    "collapsed": false,
    "ExecuteTime": {
     "end_time": "2023-08-06T09:35:14.803823326Z",
     "start_time": "2023-08-06T09:35:14.797993561Z"
    }
   }
  },
  {
   "cell_type": "markdown",
   "source": [
    "Create simulation core object and add observers"
   ],
   "metadata": {
    "collapsed": false
   }
  },
  {
   "cell_type": "code",
   "execution_count": 4,
   "outputs": [
    {
     "ename": "TraCIException",
     "evalue": "Connection 'default' is already active.",
     "output_type": "error",
     "traceback": [
      "\u001B[0;31m---------------------------------------------------------------------------\u001B[0m",
      "\u001B[0;31mTraCIException\u001B[0m                            Traceback (most recent call last)",
      "Cell \u001B[0;32mIn[4], line 1\u001B[0m\n\u001B[0;32m----> 1\u001B[0m core \u001B[38;5;241m=\u001B[39m \u001B[43msimulation_core\u001B[49m\u001B[43m(\u001B[49m\u001B[43msettings\u001B[49m\u001B[43m,\u001B[49m\u001B[43m \u001B[49m\u001B[43mdistance_connector_strategy\u001B[49m\u001B[43m(\u001B[49m\u001B[38;5;241;43m50\u001B[39;49m\u001B[43m)\u001B[49m\u001B[43m)\u001B[49m\n\u001B[1;32m      3\u001B[0m observer_1 \u001B[38;5;241m=\u001B[39m progress_module(settings[\u001B[38;5;124m\"\u001B[39m\u001B[38;5;124msim_length\u001B[39m\u001B[38;5;124m\"\u001B[39m] \u001B[38;5;241m/\u001B[39m\u001B[38;5;241m/\u001B[39m \u001B[38;5;241m100\u001B[39m)\n\u001B[1;32m      4\u001B[0m observer_2 \u001B[38;5;241m=\u001B[39m simulationFlowControlModule(\u001B[38;5;241m60\u001B[39m)\n",
      "File \u001B[0;32m~/Documents/GitHub/DeepSUMO/src/simulation/sim_core.py:38\u001B[0m, in \u001B[0;36msimulation_core.__init__\u001B[0;34m(self, settings, strategy, launch_arguments)\u001B[0m\n\u001B[1;32m     35\u001B[0m         \u001B[38;5;28mself\u001B[39m\u001B[38;5;241m.\u001B[39m_sumoCmd\u001B[38;5;241m.\u001B[39mappend(arg)\n\u001B[1;32m     37\u001B[0m \u001B[38;5;66;03m# start SUMO and initialize data manager\u001B[39;00m\n\u001B[0;32m---> 38\u001B[0m \u001B[43mtraci\u001B[49m\u001B[38;5;241;43m.\u001B[39;49m\u001B[43mstart\u001B[49m\u001B[43m(\u001B[49m\u001B[38;5;28;43mself\u001B[39;49m\u001B[38;5;241;43m.\u001B[39;49m\u001B[43m_sumoCmd\u001B[49m\u001B[43m)\u001B[49m\n\u001B[1;32m     39\u001B[0m \u001B[38;5;28mself\u001B[39m\u001B[38;5;241m.\u001B[39m_data \u001B[38;5;241m=\u001B[39m data_manager(settings, strategy)\n",
      "File \u001B[0;32m~/.venvs/Pytorch_Python3.11/lib64/python3.11/site-packages/traci/main.py:139\u001B[0m, in \u001B[0;36mstart\u001B[0;34m(cmd, port, numRetries, label, verbose, traceFile, traceGetters, stdout, doSwitch)\u001B[0m\n\u001B[1;32m    124\u001B[0m \u001B[38;5;250m\u001B[39m\u001B[38;5;124;03m\"\"\"\u001B[39;00m\n\u001B[1;32m    125\u001B[0m \u001B[38;5;124;03mStart a sumo server using cmd, establish a connection to it and\u001B[39;00m\n\u001B[1;32m    126\u001B[0m \u001B[38;5;124;03mstore it under the given label. This method is not thread-safe.\u001B[39;00m\n\u001B[0;32m   (...)\u001B[0m\n\u001B[1;32m    136\u001B[0m \u001B[38;5;124;03m- stdout (iostream): where to pipe sumo process stdout\u001B[39;00m\n\u001B[1;32m    137\u001B[0m \u001B[38;5;124;03m\"\"\"\u001B[39;00m\n\u001B[1;32m    138\u001B[0m \u001B[38;5;28;01mif\u001B[39;00m connection\u001B[38;5;241m.\u001B[39mhas(label):\n\u001B[0;32m--> 139\u001B[0m     \u001B[38;5;28;01mraise\u001B[39;00m TraCIException(\u001B[38;5;124m\"\u001B[39m\u001B[38;5;124mConnection \u001B[39m\u001B[38;5;124m'\u001B[39m\u001B[38;5;132;01m%s\u001B[39;00m\u001B[38;5;124m'\u001B[39m\u001B[38;5;124m is already active.\u001B[39m\u001B[38;5;124m\"\u001B[39m \u001B[38;5;241m%\u001B[39m label)\n\u001B[1;32m    140\u001B[0m \u001B[38;5;28;01mwhile\u001B[39;00m numRetries \u001B[38;5;241m>\u001B[39m\u001B[38;5;241m=\u001B[39m \u001B[38;5;241m0\u001B[39m \u001B[38;5;129;01mand\u001B[39;00m \u001B[38;5;129;01mnot\u001B[39;00m connection\u001B[38;5;241m.\u001B[39mhas(label):\n\u001B[1;32m    141\u001B[0m     sumoPort \u001B[38;5;241m=\u001B[39m getFreeSocketPort() \u001B[38;5;28;01mif\u001B[39;00m port \u001B[38;5;129;01mis\u001B[39;00m \u001B[38;5;28;01mNone\u001B[39;00m \u001B[38;5;28;01melse\u001B[39;00m port\n",
      "\u001B[0;31mTraCIException\u001B[0m: Connection 'default' is already active."
     ]
    }
   ],
   "source": [
    "core = simulation_core(settings, distance_connector_strategy(50))\n",
    "\n",
    "observer_1 = progress_module(settings[\"sim_length\"] // 100)\n",
    "observer_2 = simulationFlowControlModule(60)\n",
    "\n",
    "core.add_continuous_observer(observer_1)\n",
    "core.add_continuous_observer(observer_2)"
   ],
   "metadata": {
    "collapsed": false,
    "ExecuteTime": {
     "end_time": "2023-08-06T09:35:36.389075872Z",
     "start_time": "2023-08-06T09:35:36.140361917Z"
    }
   }
  },
  {
   "cell_type": "markdown",
   "source": [
    "Start simulation"
   ],
   "metadata": {
    "collapsed": false
   }
  },
  {
   "cell_type": "code",
   "execution_count": 5,
   "outputs": [
    {
     "name": "stdout",
     "output_type": "stream",
     "text": [
      "----- 2 % -----\n",
      "sim_step: 1729.0\n",
      "last_sim_time: 0.27 seconds\n",
      "scale: 0.19476118218111899\n",
      "ETA: 0.44 minutes\n",
      "----- 3 % -----\n",
      "sim_step: 2593.0\n",
      "last_sim_time: 0.19 seconds\n",
      "scale: 0.12283493984677722\n",
      "ETA: 0.37 minutes\n",
      "----- 4 % -----\n",
      "sim_step: 3457.0\n",
      "last_sim_time: 0.17 seconds\n",
      "scale: 0.12724383145366921\n",
      "ETA: 0.34 minutes\n",
      "-----DONG, DONG, DONG-----\n",
      "Passed one hour!\n",
      "Day: 0 Hour: 1\n",
      "Flow between 0.1 and 0.2\n",
      "----- 5 % -----\n",
      "sim_step: 4321.0\n",
      "last_sim_time: 0.16 seconds\n",
      "scale: 0.15207894867835203\n",
      "ETA: 0.31 minutes\n",
      "----- 6 % -----\n",
      "sim_step: 5185.0\n",
      "last_sim_time: 0.18 seconds\n",
      "scale: 0.17445086055706635\n",
      "ETA: 0.3 minutes\n",
      "----- 7 % -----\n",
      "sim_step: 6049.0\n",
      "last_sim_time: 0.16 seconds\n",
      "scale: 0.19286996803629536\n",
      "ETA: 0.29 minutes\n",
      "----- 8 % -----\n",
      "sim_step: 6913.0\n",
      "last_sim_time: 0.24 seconds\n",
      "scale: 0.17934901551521523\n",
      "ETA: 0.3 minutes\n",
      "-----DONG, DONG, DONG-----\n",
      "Passed one hour!\n",
      "Day: 0 Hour: 2\n",
      "Flow between 0.1 and 0.2\n",
      "----- 9 % -----\n",
      "sim_step: 7777.0\n",
      "last_sim_time: 0.22 seconds\n",
      "scale: 0.12179905421846936\n",
      "ETA: 0.3 minutes\n",
      "----- 10 % -----\n",
      "sim_step: 8641.0\n",
      "last_sim_time: 0.27 seconds\n",
      "scale: 0.16513637558134311\n",
      "ETA: 0.31 minutes\n",
      "----- 11 % -----\n",
      "sim_step: 9505.0\n",
      "last_sim_time: 0.15 seconds\n",
      "scale: 0.1277501506486567\n",
      "ETA: 0.3 minutes\n",
      "----- 12 % -----\n",
      "sim_step: 10369.0\n",
      "last_sim_time: 0.17 seconds\n",
      "scale: 0.12897956494010754\n",
      "ETA: 0.29 minutes\n",
      "-----DONG, DONG, DONG-----\n",
      "Passed one hour!\n",
      "Day: 0 Hour: 3\n",
      "Flow between 0.1 and 0.2\n",
      "----- 13 % -----\n",
      "sim_step: 11233.0\n",
      "last_sim_time: 0.14 seconds\n",
      "scale: 0.18686688914653066\n",
      "ETA: 0.28 minutes\n",
      "----- 14 % -----\n",
      "sim_step: 12097.0\n",
      "last_sim_time: 0.18 seconds\n",
      "scale: 0.17478231022316437\n",
      "ETA: 0.28 minutes\n",
      "----- 15 % -----\n",
      "sim_step: 12961.0\n",
      "last_sim_time: 0.16 seconds\n",
      "scale: 0.18719593598450124\n",
      "ETA: 0.27 minutes\n",
      "----- 16 % -----\n",
      "sim_step: 13825.0\n",
      "last_sim_time: 0.15 seconds\n",
      "scale: 0.18236673723252564\n",
      "ETA: 0.26 minutes\n",
      "-----DONG, DONG, DONG-----\n",
      "Passed one hour!\n",
      "Day: 0 Hour: 4\n",
      "Flow between 0.1 and 0.2\n",
      "----- 17 % -----\n",
      "sim_step: 14689.0\n",
      "last_sim_time: 0.13 seconds\n",
      "scale: 0.1861259403485245\n",
      "ETA: 0.25 minutes\n",
      "----- 18 % -----\n",
      "sim_step: 15553.0\n",
      "last_sim_time: 0.15 seconds\n",
      "scale: 0.14252937854553166\n",
      "ETA: 0.25 minutes\n",
      "----- 19 % -----\n",
      "sim_step: 16417.0\n",
      "last_sim_time: 0.14 seconds\n",
      "scale: 0.17804603761172347\n",
      "ETA: 0.24 minutes\n",
      "----- 20 % -----\n",
      "sim_step: 17281.0\n",
      "last_sim_time: 0.16 seconds\n",
      "scale: 0.17774564260925022\n",
      "ETA: 0.24 minutes\n",
      "-----DONG, DONG, DONG-----\n",
      "Passed one hour!\n",
      "Day: 0 Hour: 5\n",
      "Flow between 0.1 and 0.2\n",
      "----- 21 % -----\n",
      "sim_step: 18145.0\n",
      "last_sim_time: 0.15 seconds\n",
      "scale: 0.10995045588607644\n",
      "ETA: 0.23 minutes\n",
      "----- 22 % -----\n",
      "sim_step: 19009.0\n",
      "last_sim_time: 0.16 seconds\n",
      "scale: 0.17609270639385247\n",
      "ETA: 0.23 minutes\n",
      "----- 23 % -----\n",
      "sim_step: 19873.0\n",
      "last_sim_time: 0.15 seconds\n",
      "scale: 0.11069965473147252\n",
      "ETA: 0.23 minutes\n",
      "----- 24 % -----\n",
      "sim_step: 20737.0\n",
      "last_sim_time: 0.17 seconds\n",
      "scale: 0.13486501782460927\n",
      "ETA: 0.22 minutes\n",
      "----- 25 % -----\n",
      "sim_step: 21601.0\n",
      "last_sim_time: 0.14 seconds\n",
      "scale: 0.15038897242484567\n",
      "ETA: 0.22 minutes\n",
      "-----DONG, DONG, DONG-----\n",
      "Passed one hour!\n",
      "Day: 0 Hour: 6\n",
      "Flow between 2.5 and 3.0\n",
      "----- 26 % -----\n",
      "sim_step: 22465.0\n",
      "last_sim_time: 0.9 seconds\n",
      "scale: 2.5214382534760604\n",
      "ETA: 0.25 minutes\n",
      "----- 27 % -----\n",
      "sim_step: 23329.0\n",
      "last_sim_time: 1.1 seconds\n",
      "scale: 2.5131088933633974\n",
      "ETA: 0.29 minutes\n",
      "----- 28 % -----\n",
      "sim_step: 24193.0\n",
      "last_sim_time: 1.07 seconds\n",
      "scale: 2.6829838164170763\n",
      "ETA: 0.32 minutes\n",
      "----- 29 % -----\n",
      "sim_step: 25057.0\n",
      "last_sim_time: 1.08 seconds\n",
      "scale: 2.967297147034641\n",
      "ETA: 0.35 minutes\n",
      "-----DONG, DONG, DONG-----\n",
      "Passed one hour!\n",
      "Day: 0 Hour: 7\n",
      "Flow between 2.5 and 3.0\n",
      "----- 30 % -----\n",
      "sim_step: 25921.0\n",
      "last_sim_time: 1.06 seconds\n",
      "scale: 2.8554156086950373\n",
      "ETA: 0.38 minutes\n",
      "----- 31 % -----\n",
      "sim_step: 26785.0\n",
      "last_sim_time: 1.19 seconds\n",
      "scale: 2.5383115984272533\n",
      "ETA: 0.41 minutes\n",
      "----- 32 % -----\n",
      "sim_step: 27649.0\n",
      "last_sim_time: 1.27 seconds\n",
      "scale: 2.9527993065851956\n",
      "ETA: 0.43 minutes\n",
      "----- 33 % -----\n",
      "sim_step: 28513.0\n",
      "last_sim_time: 1.3 seconds\n",
      "scale: 2.688178806116632\n",
      "ETA: 0.46 minutes\n",
      "-----DONG, DONG, DONG-----\n",
      "Passed one hour!\n",
      "Day: 0 Hour: 8\n",
      "Flow between 2.5 and 3.0\n",
      "----- 34 % -----\n",
      "sim_step: 29377.0\n",
      "last_sim_time: 1.91 seconds\n",
      "scale: 2.865560112910935\n",
      "ETA: 0.5 minutes\n",
      "----- 35 % -----\n",
      "sim_step: 30241.0\n",
      "last_sim_time: 1.3 seconds\n",
      "scale: 2.6662154215985003\n",
      "ETA: 0.52 minutes\n",
      "----- 36 % -----\n",
      "sim_step: 31105.0\n",
      "last_sim_time: 1.31 seconds\n",
      "scale: 2.8477551999414947\n",
      "ETA: 0.54 minutes\n",
      "----- 37 % -----\n",
      "sim_step: 31969.0\n",
      "last_sim_time: 1.13 seconds\n",
      "scale: 2.7763766920644857\n",
      "ETA: 0.55 minutes\n",
      "-----DONG, DONG, DONG-----\n",
      "Passed one hour!\n",
      "Day: 0 Hour: 9\n",
      "Flow between 2.5 and 3.0\n",
      "----- 38 % -----\n",
      "sim_step: 32833.0\n",
      "last_sim_time: 1.22 seconds\n",
      "scale: 2.689478115489141\n",
      "ETA: 0.56 minutes\n",
      "----- 39 % -----\n",
      "sim_step: 33697.0\n",
      "last_sim_time: 1.28 seconds\n",
      "scale: 2.8001091240786673\n",
      "ETA: 0.57 minutes\n",
      "----- 40 % -----\n",
      "sim_step: 34561.0\n",
      "last_sim_time: 1.13 seconds\n",
      "scale: 2.8302483472769557\n",
      "ETA: 0.58 minutes\n",
      "----- 41 % -----\n",
      "sim_step: 35425.0\n",
      "last_sim_time: 1.28 seconds\n",
      "scale: 2.9137850543665125\n",
      "ETA: 0.58 minutes\n",
      "-----DONG, DONG, DONG-----\n",
      "Passed one hour!\n",
      "Day: 0 Hour: 10\n",
      "Flow between 1.8 and 2.0\n",
      "----- 42 % -----\n",
      "sim_step: 36289.0\n",
      "last_sim_time: 1.1 seconds\n",
      "scale: 1.9338080254214112\n",
      "ETA: 0.58 minutes\n",
      "----- 43 % -----\n",
      "sim_step: 37153.0\n",
      "last_sim_time: 0.81 seconds\n",
      "scale: 1.9340310765420716\n",
      "ETA: 0.58 minutes\n",
      "----- 44 % -----\n",
      "sim_step: 38017.0\n",
      "last_sim_time: 0.77 seconds\n",
      "scale: 1.9821202684155916\n",
      "ETA: 0.57 minutes\n",
      "----- 45 % -----\n",
      "sim_step: 38881.0\n",
      "last_sim_time: 0.73 seconds\n",
      "scale: 1.803287523350448\n",
      "ETA: 0.56 minutes\n",
      "-----DONG, DONG, DONG-----\n",
      "Passed one hour!\n",
      "Day: 0 Hour: 11\n",
      "Flow between 1.8 and 2.0\n",
      "----- 46 % -----\n",
      "sim_step: 39745.0\n",
      "last_sim_time: 0.77 seconds\n",
      "scale: 1.9783512858046088\n",
      "ETA: 0.56 minutes\n",
      "----- 47 % -----\n",
      "sim_step: 40609.0\n",
      "last_sim_time: 0.75 seconds\n",
      "scale: 1.946952502979336\n",
      "ETA: 0.55 minutes\n",
      "----- 48 % -----\n",
      "sim_step: 41473.0\n",
      "last_sim_time: 0.77 seconds\n",
      "scale: 1.982420873434737\n",
      "ETA: 0.54 minutes\n",
      "----- 49 % -----\n",
      "sim_step: 42337.0\n",
      "last_sim_time: 0.75 seconds\n",
      "scale: 1.8747092244367987\n",
      "ETA: 0.53 minutes\n",
      "----- 50 % -----\n",
      "sim_step: 43201.0\n",
      "last_sim_time: 0.74 seconds\n",
      "scale: 1.8812762152137172\n",
      "ETA: 0.53 minutes\n",
      "-----DONG, DONG, DONG-----\n",
      "Passed one hour!\n",
      "Day: 0 Hour: 12\n",
      "Flow between 1.8 and 2.0\n",
      "----- 51 % -----\n",
      "sim_step: 44065.0\n",
      "last_sim_time: 0.68 seconds\n",
      "scale: 1.901463981640722\n",
      "ETA: 0.52 minutes\n",
      "----- 52 % -----\n",
      "sim_step: 44929.0\n",
      "last_sim_time: 0.75 seconds\n",
      "scale: 1.9792644495932061\n",
      "ETA: 0.51 minutes\n",
      "----- 53 % -----\n",
      "sim_step: 45793.0\n",
      "last_sim_time: 0.88 seconds\n",
      "scale: 1.9037401143560573\n",
      "ETA: 0.5 minutes\n",
      "----- 54 % -----\n",
      "sim_step: 46657.0\n",
      "last_sim_time: 0.76 seconds\n",
      "scale: 1.8506070695548598\n",
      "ETA: 0.49 minutes\n",
      "-----DONG, DONG, DONG-----\n",
      "Passed one hour!\n",
      "Day: 0 Hour: 13\n",
      "Flow between 1.8 and 2.0\n",
      "----- 55 % -----\n",
      "sim_step: 47521.0\n",
      "last_sim_time: 0.76 seconds\n",
      "scale: 1.8223382691630226\n",
      "ETA: 0.48 minutes\n",
      "----- 56 % -----\n",
      "sim_step: 48385.0\n",
      "last_sim_time: 0.79 seconds\n",
      "scale: 1.8258336256866834\n",
      "ETA: 0.47 minutes\n",
      "----- 57 % -----\n",
      "sim_step: 49249.0\n",
      "last_sim_time: 0.9 seconds\n",
      "scale: 1.8664836991442046\n",
      "ETA: 0.47 minutes\n",
      "----- 58 % -----\n",
      "sim_step: 50113.0\n",
      "last_sim_time: 1.08 seconds\n",
      "scale: 1.922438254597227\n",
      "ETA: 0.46 minutes\n",
      "-----DONG, DONG, DONG-----\n",
      "Passed one hour!\n",
      "Day: 0 Hour: 14\n",
      "Flow between 1.8 and 2.0\n",
      "----- 59 % -----\n",
      "sim_step: 50977.0\n",
      "last_sim_time: 0.74 seconds\n",
      "scale: 1.897787828352255\n",
      "ETA: 0.45 minutes\n",
      "----- 60 % -----\n",
      "sim_step: 51841.0\n",
      "last_sim_time: 0.83 seconds\n",
      "scale: 1.9331432570987368\n",
      "ETA: 0.44 minutes\n",
      "----- 61 % -----\n",
      "sim_step: 52705.0\n",
      "last_sim_time: 0.85 seconds\n",
      "scale: 1.983008776063981\n",
      "ETA: 0.43 minutes\n",
      "----- 62 % -----\n",
      "sim_step: 53569.0\n",
      "last_sim_time: 0.85 seconds\n",
      "scale: 1.9559881969774904\n",
      "ETA: 0.42 minutes\n",
      "-----DONG, DONG, DONG-----\n",
      "Passed one hour!\n",
      "Day: 0 Hour: 15\n",
      "Flow between 1.8 and 2.0\n",
      "----- 63 % -----\n",
      "sim_step: 54433.0\n",
      "last_sim_time: 0.89 seconds\n",
      "scale: 1.8329764867632026\n",
      "ETA: 0.41 minutes\n",
      "----- 64 % -----\n",
      "sim_step: 55297.0\n",
      "last_sim_time: 1.03 seconds\n",
      "scale: 1.8490543224640799\n",
      "ETA: 0.41 minutes\n",
      "----- 65 % -----\n",
      "sim_step: 56161.0\n",
      "last_sim_time: 0.92 seconds\n",
      "scale: 1.9682226330402037\n",
      "ETA: 0.4 minutes\n",
      "----- 66 % -----\n",
      "sim_step: 57025.0\n",
      "last_sim_time: 0.82 seconds\n",
      "scale: 1.9521052177948786\n",
      "ETA: 0.39 minutes\n",
      "-----DONG, DONG, DONG-----\n",
      "Passed one hour!\n",
      "Day: 0 Hour: 16\n",
      "Flow between 1.8 and 2.0\n",
      "----- 67 % -----\n",
      "sim_step: 57889.0\n",
      "last_sim_time: 0.78 seconds\n",
      "scale: 1.889893323511355\n",
      "ETA: 0.38 minutes\n",
      "----- 68 % -----\n",
      "sim_step: 58753.0\n",
      "last_sim_time: 0.82 seconds\n",
      "scale: 1.8491274231065062\n",
      "ETA: 0.37 minutes\n",
      "----- 69 % -----\n",
      "sim_step: 59617.0\n",
      "last_sim_time: 0.78 seconds\n",
      "scale: 1.878660604930115\n",
      "ETA: 0.36 minutes\n",
      "----- 70 % -----\n",
      "sim_step: 60481.0\n",
      "last_sim_time: 0.89 seconds\n",
      "scale: 1.934939400773021\n",
      "ETA: 0.35 minutes\n",
      "-----DONG, DONG, DONG-----\n",
      "Passed one hour!\n",
      "Day: 0 Hour: 17\n",
      "Flow between 2.5 and 3.0\n",
      "----- 71 % -----\n",
      "sim_step: 61345.0\n",
      "last_sim_time: 0.8 seconds\n",
      "scale: 2.6454908780775037\n",
      "ETA: 0.33 minutes\n",
      "----- 72 % -----\n",
      "sim_step: 62209.0\n",
      "last_sim_time: 1.16 seconds\n",
      "scale: 2.8004588101230135\n",
      "ETA: 0.33 minutes\n",
      "----- 73 % -----\n",
      "sim_step: 63073.0\n",
      "last_sim_time: 1.38 seconds\n",
      "scale: 2.7464831604533995\n",
      "ETA: 0.32 minutes\n",
      "----- 74 % -----\n",
      "sim_step: 63937.0\n",
      "last_sim_time: 1.28 seconds\n",
      "scale: 2.8222245240011437\n",
      "ETA: 0.31 minutes\n",
      "----- 75 % -----\n",
      "sim_step: 64801.0\n",
      "last_sim_time: 1.22 seconds\n",
      "scale: 2.6379147990111105\n",
      "ETA: 0.3 minutes\n",
      "-----DONG, DONG, DONG-----\n",
      "Passed one hour!\n",
      "Day: 0 Hour: 18\n",
      "Flow between 2.5 and 3.0\n",
      "----- 76 % -----\n",
      "sim_step: 65665.0\n",
      "last_sim_time: 1.08 seconds\n",
      "scale: 2.808284337152253\n",
      "ETA: 0.29 minutes\n",
      "----- 77 % -----\n",
      "sim_step: 66529.0\n",
      "last_sim_time: 1.09 seconds\n",
      "scale: 2.694279294185455\n",
      "ETA: 0.28 minutes\n",
      "----- 78 % -----\n",
      "sim_step: 67393.0\n",
      "last_sim_time: 1.07 seconds\n",
      "scale: 2.9980554764093323\n",
      "ETA: 0.27 minutes\n",
      "----- 79 % -----\n",
      "sim_step: 68257.0\n",
      "last_sim_time: 1.38 seconds\n",
      "scale: 2.985101554056113\n",
      "ETA: 0.26 minutes\n",
      "-----DONG, DONG, DONG-----\n",
      "Passed one hour!\n",
      "Day: 0 Hour: 19\n",
      "Flow between 1.1 and 1.4\n",
      "----- 80 % -----\n",
      "sim_step: 69121.0\n",
      "last_sim_time: 0.85 seconds\n",
      "scale: 1.1428674234289387\n",
      "ETA: 0.25 minutes\n",
      "----- 81 % -----\n",
      "sim_step: 69985.0\n",
      "last_sim_time: 0.58 seconds\n",
      "scale: 1.1175795960513515\n",
      "ETA: 0.24 minutes\n",
      "----- 82 % -----\n",
      "sim_step: 70849.0\n",
      "last_sim_time: 0.52 seconds\n",
      "scale: 1.240432899906368\n",
      "ETA: 0.22 minutes\n",
      "----- 83 % -----\n",
      "sim_step: 71713.0\n",
      "last_sim_time: 0.56 seconds\n",
      "scale: 1.2497270667326281\n",
      "ETA: 0.21 minutes\n",
      "-----DONG, DONG, DONG-----\n",
      "Passed one hour!\n",
      "Day: 0 Hour: 20\n",
      "Flow between 1.1 and 1.4\n",
      "----- 84 % -----\n",
      "sim_step: 72577.0\n",
      "last_sim_time: 0.59 seconds\n",
      "scale: 1.153575014951694\n",
      "ETA: 0.2 minutes\n",
      "----- 85 % -----\n",
      "sim_step: 73441.0\n",
      "last_sim_time: 0.65 seconds\n",
      "scale: 1.2523314112666517\n",
      "ETA: 0.18 minutes\n",
      "----- 86 % -----\n",
      "sim_step: 74305.0\n",
      "last_sim_time: 0.59 seconds\n",
      "scale: 1.1323365821892304\n",
      "ETA: 0.17 minutes\n",
      "----- 87 % -----\n",
      "sim_step: 75169.0\n",
      "last_sim_time: 0.58 seconds\n",
      "scale: 1.238840015024079\n",
      "ETA: 0.16 minutes\n",
      "-----DONG, DONG, DONG-----\n",
      "Passed one hour!\n",
      "Day: 0 Hour: 21\n",
      "Flow between 1.1 and 1.4\n",
      "----- 88 % -----\n",
      "sim_step: 76033.0\n",
      "last_sim_time: 0.55 seconds\n",
      "scale: 1.3617282928419976\n",
      "ETA: 0.15 minutes\n",
      "----- 89 % -----\n",
      "sim_step: 76897.0\n",
      "last_sim_time: 0.58 seconds\n",
      "scale: 1.1806455772191864\n",
      "ETA: 0.13 minutes\n",
      "----- 90 % -----\n",
      "sim_step: 77761.0\n",
      "last_sim_time: 0.55 seconds\n",
      "scale: 1.1388791575383002\n",
      "ETA: 0.12 minutes\n",
      "----- 91 % -----\n",
      "sim_step: 78625.0\n",
      "last_sim_time: 0.57 seconds\n",
      "scale: 1.3088671410396024\n",
      "ETA: 0.11 minutes\n",
      "-----DONG, DONG, DONG-----\n",
      "Passed one hour!\n",
      "Day: 0 Hour: 22\n",
      "Flow between 0.1 and 0.2\n",
      "----- 92 % -----\n",
      "sim_step: 79489.0\n",
      "last_sim_time: 0.49 seconds\n",
      "scale: 0.10661931806580986\n",
      "ETA: 0.1 minutes\n",
      "----- 93 % -----\n",
      "sim_step: 80353.0\n",
      "last_sim_time: 0.17 seconds\n",
      "scale: 0.19540070092947792\n",
      "ETA: 0.08 minutes\n",
      "----- 94 % -----\n",
      "sim_step: 81217.0\n",
      "last_sim_time: 0.15 seconds\n",
      "scale: 0.14462498620121797\n",
      "ETA: 0.07 minutes\n",
      "----- 95 % -----\n",
      "sim_step: 82081.0\n",
      "last_sim_time: 0.17 seconds\n",
      "scale: 0.108244637665006\n",
      "ETA: 0.06 minutes\n",
      "-----DONG, DONG, DONG-----\n",
      "Passed one hour!\n",
      "Day: 0 Hour: 23\n",
      "Flow between 0.1 and 0.2\n",
      "----- 96 % -----\n",
      "sim_step: 82945.0\n",
      "last_sim_time: 0.14 seconds\n",
      "scale: 0.130207270647412\n",
      "ETA: 0.05 minutes\n",
      "----- 97 % -----\n",
      "sim_step: 83809.0\n",
      "last_sim_time: 0.17 seconds\n",
      "scale: 0.17133440446115095\n",
      "ETA: 0.03 minutes\n",
      "----- 98 % -----\n",
      "sim_step: 84673.0\n",
      "last_sim_time: 0.16 seconds\n",
      "scale: 0.12810374767435637\n",
      "ETA: 0.02 minutes\n",
      "----- 99 % -----\n",
      "sim_step: 85537.0\n",
      "last_sim_time: 0.15 seconds\n",
      "scale: 0.12441542145392098\n",
      "ETA: 0.01 minutes\n"
     ]
    }
   ],
   "source": [
    "core.start_simulation()"
   ],
   "metadata": {
    "collapsed": false,
    "ExecuteTime": {
     "end_time": "2023-08-06T09:36:47.968714707Z",
     "start_time": "2023-08-06T09:35:40.231425780Z"
    }
   }
  },
  {
   "cell_type": "markdown",
   "source": [
    "Crate dataset from data collected by DeepSUMO"
   ],
   "metadata": {
    "collapsed": false
   }
  },
  {
   "cell_type": "code",
   "execution_count": 8,
   "outputs": [
    {
     "name": "stdout",
     "output_type": "stream",
     "text": [
      "./processed/test_data.pt\n",
      "torch.Size([2, 2338])\n",
      "torch.int32\n"
     ]
    }
   ],
   "source": [
    "data = adaptive_speed2vec_dataset(core.get_data(), settings[\"total_graphs\"])\n",
    "data.process()"
   ],
   "metadata": {
    "collapsed": false,
    "ExecuteTime": {
     "end_time": "2023-08-06T09:37:40.159652139Z",
     "start_time": "2023-08-06T09:37:40.080454660Z"
    }
   }
  },
  {
   "cell_type": "code",
   "execution_count": null,
   "outputs": [],
   "source": [],
   "metadata": {
    "collapsed": false
   }
  },
  {
   "cell_type": "markdown",
   "source": [
    "Split dataset into data loaders"
   ],
   "metadata": {
    "collapsed": false
   }
  },
  {
   "cell_type": "code",
   "execution_count": 14,
   "outputs": [
    {
     "name": "stdout",
     "output_type": "stream",
     "text": [
      "(287, 274)\n",
      "41\n"
     ]
    },
    {
     "data": {
      "text/plain": "<Figure size 640x480 with 1 Axes>",
      "image/png": "[encoded data removed]"
     },
     "metadata": {},
     "output_type": "display_data"
    }
   ],
   "source": [
    "import numpy as np\n",
    "\n",
    "l = []\n",
    "l2 = []\n",
    "buffer = []\n",
    "s_id = random.randint(0, settings[\"N_NODE\"] - 1)\n",
    "\n",
    "print(core.get_data().numpy.get_speed_node_features().shape)\n",
    "for i, point in enumerate(core.get_data().numpy.get_speed_node_features()):\n",
    "    if i % 10 == 0:\n",
    "        l2.append(np.average(buffer))\n",
    "        buffer.clear()\n",
    "    buffer.append(point[s_id] * 3.6)\n",
    "    #print(point[12])\n",
    "    l.append(point[s_id] * 3.6)\n",
    "\n",
    "l = l[4:2000]\n",
    "\n",
    "print(s_id)\n",
    "sumo_id = core.get_data().translation.get_detector_id(s_id)\n",
    "target_lane_id = traci.inductionloop.getLaneID(sumo_id)\n",
    "target_lane: sumolib.net.lane.Lane = core.get_data().net.getLane(target_lane_id)\n",
    "target_edge: sumolib.net.edge.Edge = target_lane.getEdge()\n",
    "\n",
    "plt.title(target_edge.getName())\n",
    "plt.plot(range(len(l2)), l2)\n",
    "plt.xlabel(\"interval\")\n",
    "plt.ylabel(\"speed\")\n",
    "plt.show()"
   ],
   "metadata": {
    "collapsed": false,
    "ExecuteTime": {
     "end_time": "2023-08-06T09:37:47.871883593Z",
     "start_time": "2023-08-06T09:37:47.771266907Z"
    }
   }
  },
  {
   "cell_type": "markdown",
   "source": [
    "0, 268"
   ],
   "metadata": {
    "collapsed": false
   }
  },
  {
   "cell_type": "code",
   "execution_count": 10,
   "outputs": [],
   "source": [
    "train_threshold = int(len(data) * 0.9)\n",
    "valid_threshold = int(len(data) * 0.9)\n",
    "test_threshold = int(len(data) * 1.0)\n",
    "\n",
    "train_loader = DataLoader(data[:train_threshold], shuffle=True, batch_size=settings[\"BATCH_SIZE\"])\n",
    "valid_loader = DataLoader(data[train_threshold:test_threshold], shuffle=True, batch_size=settings[\"BATCH_SIZE\"])\n",
    "test_loader = DataLoader(data[train_threshold:test_threshold], shuffle=False, batch_size=settings[\"BATCH_SIZE\"])"
   ],
   "metadata": {
    "collapsed": false,
    "ExecuteTime": {
     "end_time": "2023-08-03T15:56:20.925524845Z",
     "start_time": "2023-08-03T15:56:20.919830366Z"
    }
   }
  },
  {
   "cell_type": "markdown",
   "source": [
    "Set up device"
   ],
   "metadata": {
    "collapsed": false
   }
  },
  {
   "cell_type": "code",
   "execution_count": 11,
   "outputs": [
    {
     "name": "stdout",
     "output_type": "stream",
     "text": [
      "Using cuda\n"
     ]
    }
   ],
   "source": [
    "device = 'cuda' if torch.cuda.is_available() else 'cpu'\n",
    "print(f\"Using {device}\")"
   ],
   "metadata": {
    "collapsed": false,
    "ExecuteTime": {
     "end_time": "2023-08-03T15:56:22.470823656Z",
     "start_time": "2023-08-03T15:56:22.465365946Z"
    }
   }
  },
  {
   "cell_type": "markdown",
   "source": [
    "Train the model"
   ],
   "metadata": {
    "collapsed": false
   }
  },
  {
   "cell_type": "code",
   "execution_count": null,
   "outputs": [],
   "source": [],
   "metadata": {
    "collapsed": false
   }
  },
  {
   "cell_type": "code",
   "execution_count": 12,
   "outputs": [
    {
     "name": "stderr",
     "output_type": "stream",
     "text": [
      "Epoch 0: 100%|██████████| 5/5 [00:00<00:00, 11.82it/s]\n"
     ]
    },
    {
     "name": "stdout",
     "output_type": "stream",
     "text": [
      "5\n",
      "Train, MAE: 1.9178446531295776, RMSE: 2.5626754760742188, MAPE: 18.778873443603516\n",
      "1\n",
      "Valid, MAE: 1.8663870096206665, RMSE: 2.5055124759674072, MAPE: 18.44808578491211\n"
     ]
    },
    {
     "name": "stderr",
     "output_type": "stream",
     "text": [
      "Epoch 1: 100%|██████████| 5/5 [00:00<00:00, 93.20it/s]\n",
      "Epoch 2: 100%|██████████| 5/5 [00:00<00:00, 95.63it/s]\n",
      "Epoch 3: 100%|██████████| 5/5 [00:00<00:00, 96.51it/s]\n",
      "Epoch 4: 100%|██████████| 5/5 [00:00<00:00, 104.75it/s]\n",
      "Epoch 5: 100%|██████████| 5/5 [00:00<00:00, 102.21it/s]\n"
     ]
    },
    {
     "name": "stdout",
     "output_type": "stream",
     "text": [
      "5\n",
      "Train, MAE: 1.5835609436035156, RMSE: 2.2540674209594727, MAPE: 15.747931480407715\n",
      "1\n",
      "Valid, MAE: 1.5089795589447021, RMSE: 2.1787798404693604, MAPE: 15.171223640441895\n"
     ]
    },
    {
     "name": "stderr",
     "output_type": "stream",
     "text": [
      "Epoch 6: 100%|██████████| 5/5 [00:00<00:00, 105.03it/s]\n",
      "Epoch 7: 100%|██████████| 5/5 [00:00<00:00, 101.52it/s]\n",
      "Epoch 8: 100%|██████████| 5/5 [00:00<00:00, 105.02it/s]\n",
      "Epoch 9: 100%|██████████| 5/5 [00:00<00:00, 103.74it/s]\n",
      "Epoch 10: 100%|██████████| 5/5 [00:00<00:00, 100.66it/s]\n"
     ]
    },
    {
     "name": "stdout",
     "output_type": "stream",
     "text": [
      "5\n",
      "Train, MAE: 0.8028066754341125, RMSE: 1.1816445589065552, MAPE: 7.182080268859863\n",
      "1\n",
      "Valid, MAE: 0.6594979166984558, RMSE: 1.006309986114502, MAPE: 6.0292253494262695\n"
     ]
    },
    {
     "name": "stderr",
     "output_type": "stream",
     "text": [
      "Epoch 11: 100%|██████████| 5/5 [00:00<00:00, 104.83it/s]\n",
      "Epoch 12: 100%|██████████| 5/5 [00:00<00:00, 103.24it/s]\n",
      "Epoch 13: 100%|██████████| 5/5 [00:00<00:00, 101.25it/s]\n",
      "Epoch 14: 100%|██████████| 5/5 [00:00<00:00, 98.01it/s]\n",
      "Epoch 15: 100%|██████████| 5/5 [00:00<00:00, 99.62it/s]\n"
     ]
    },
    {
     "name": "stdout",
     "output_type": "stream",
     "text": [
      "5\n",
      "Train, MAE: 0.7085402607917786, RMSE: 0.9898144602775574, MAPE: 6.370924949645996\n",
      "1\n",
      "Valid, MAE: 0.5689057111740112, RMSE: 0.787604033946991, MAPE: 5.334254264831543\n"
     ]
    },
    {
     "name": "stderr",
     "output_type": "stream",
     "text": [
      "Epoch 16: 100%|██████████| 5/5 [00:00<00:00, 102.74it/s]\n",
      "Epoch 17: 100%|██████████| 5/5 [00:00<00:00, 98.50it/s]\n",
      "Epoch 18: 100%|██████████| 5/5 [00:00<00:00, 100.20it/s]\n",
      "Epoch 19: 100%|██████████| 5/5 [00:00<00:00, 99.66it/s]\n",
      "Epoch 20: 100%|██████████| 5/5 [00:00<00:00, 101.68it/s]\n"
     ]
    },
    {
     "name": "stdout",
     "output_type": "stream",
     "text": [
      "5\n",
      "Train, MAE: 0.674671471118927, RMSE: 0.9492215514183044, MAPE: 6.182939052581787\n",
      "1\n",
      "Valid, MAE: 0.5357105135917664, RMSE: 0.7560890913009644, MAPE: 5.048811912536621\n"
     ]
    },
    {
     "name": "stderr",
     "output_type": "stream",
     "text": [
      "Epoch 21: 100%|██████████| 5/5 [00:00<00:00, 100.52it/s]\n",
      "Epoch 22: 100%|██████████| 5/5 [00:00<00:00, 101.44it/s]\n",
      "Epoch 23: 100%|██████████| 5/5 [00:00<00:00, 104.03it/s]\n",
      "Epoch 24: 100%|██████████| 5/5 [00:00<00:00, 101.30it/s]\n",
      "Epoch 25: 100%|██████████| 5/5 [00:00<00:00, 102.12it/s]\n"
     ]
    },
    {
     "name": "stdout",
     "output_type": "stream",
     "text": [
      "5\n",
      "Train, MAE: 0.6703566908836365, RMSE: 0.9414584040641785, MAPE: 6.130862712860107\n",
      "1\n",
      "Valid, MAE: 0.5318537354469299, RMSE: 0.7524464726448059, MAPE: 5.035167217254639\n"
     ]
    },
    {
     "name": "stderr",
     "output_type": "stream",
     "text": [
      "Epoch 26: 100%|██████████| 5/5 [00:00<00:00, 101.65it/s]\n",
      "Epoch 27: 100%|██████████| 5/5 [00:00<00:00, 99.94it/s]\n",
      "Epoch 28: 100%|██████████| 5/5 [00:00<00:00, 101.44it/s]\n",
      "Epoch 29: 100%|██████████| 5/5 [00:00<00:00, 101.40it/s]\n",
      "Epoch 30: 100%|██████████| 5/5 [00:00<00:00, 86.63it/s]\n"
     ]
    },
    {
     "name": "stdout",
     "output_type": "stream",
     "text": [
      "5\n",
      "Train, MAE: 0.6743420958518982, RMSE: 0.9510210156440735, MAPE: 6.133368492126465\n",
      "1\n",
      "Valid, MAE: 0.5333175659179688, RMSE: 0.751546323299408, MAPE: 5.030238151550293\n"
     ]
    },
    {
     "name": "stderr",
     "output_type": "stream",
     "text": [
      "Epoch 31: 100%|██████████| 5/5 [00:00<00:00, 101.08it/s]\n",
      "Epoch 32: 100%|██████████| 5/5 [00:00<00:00, 99.01it/s]\n",
      "Epoch 33: 100%|██████████| 5/5 [00:00<00:00, 95.73it/s]\n",
      "Epoch 34: 100%|██████████| 5/5 [00:00<00:00, 95.15it/s]\n",
      "Epoch 35: 100%|██████████| 5/5 [00:00<00:00, 94.98it/s]\n"
     ]
    },
    {
     "name": "stdout",
     "output_type": "stream",
     "text": [
      "5\n",
      "Train, MAE: 0.6678881049156189, RMSE: 0.9389925003051758, MAPE: 6.1129150390625\n",
      "1\n",
      "Valid, MAE: 0.5292556881904602, RMSE: 0.7491458058357239, MAPE: 5.010833740234375\n"
     ]
    },
    {
     "name": "stderr",
     "output_type": "stream",
     "text": [
      "Epoch 36: 100%|██████████| 5/5 [00:00<00:00, 97.12it/s]\n",
      "Epoch 37: 100%|██████████| 5/5 [00:00<00:00, 100.99it/s]\n",
      "Epoch 38: 100%|██████████| 5/5 [00:00<00:00, 100.58it/s]\n",
      "Epoch 39: 100%|██████████| 5/5 [00:00<00:00, 100.66it/s]\n",
      "Epoch 40: 100%|██████████| 5/5 [00:00<00:00, 98.90it/s]\n"
     ]
    },
    {
     "name": "stdout",
     "output_type": "stream",
     "text": [
      "5\n",
      "Train, MAE: 0.6748794913291931, RMSE: 0.9498934149742126, MAPE: 6.125764846801758\n",
      "1\n",
      "Valid, MAE: 0.5323233604431152, RMSE: 0.7513497471809387, MAPE: 5.0283684730529785\n"
     ]
    },
    {
     "name": "stderr",
     "output_type": "stream",
     "text": [
      "Epoch 41: 100%|██████████| 5/5 [00:00<00:00, 101.46it/s]\n",
      "Epoch 42: 100%|██████████| 5/5 [00:00<00:00, 99.75it/s]\n",
      "Epoch 43: 100%|██████████| 5/5 [00:00<00:00, 103.37it/s]\n",
      "Epoch 44: 100%|██████████| 5/5 [00:00<00:00, 97.23it/s]\n",
      "Epoch 45: 100%|██████████| 5/5 [00:00<00:00, 93.79it/s]\n"
     ]
    },
    {
     "name": "stdout",
     "output_type": "stream",
     "text": [
      "5\n",
      "Train, MAE: 0.6723002791404724, RMSE: 0.9442972540855408, MAPE: 6.117309093475342\n",
      "1\n",
      "Valid, MAE: 0.5279719829559326, RMSE: 0.7498889565467834, MAPE: 5.003057479858398\n"
     ]
    },
    {
     "name": "stderr",
     "output_type": "stream",
     "text": [
      "Epoch 46: 100%|██████████| 5/5 [00:00<00:00, 97.69it/s]\n",
      "Epoch 47: 100%|██████████| 5/5 [00:00<00:00, 100.98it/s]\n",
      "Epoch 48: 100%|██████████| 5/5 [00:00<00:00, 103.09it/s]\n",
      "Epoch 49: 100%|██████████| 5/5 [00:00<00:00, 97.47it/s]\n",
      "Epoch 50: 100%|██████████| 5/5 [00:00<00:00, 93.15it/s]\n"
     ]
    },
    {
     "name": "stdout",
     "output_type": "stream",
     "text": [
      "5\n",
      "Train, MAE: 0.6522589921951294, RMSE: 0.9202157258987427, MAPE: 5.929640769958496\n",
      "1\n",
      "Valid, MAE: 0.5319094061851501, RMSE: 0.7480826377868652, MAPE: 5.017663955688477\n"
     ]
    },
    {
     "name": "stderr",
     "output_type": "stream",
     "text": [
      "Epoch 51: 100%|██████████| 5/5 [00:00<00:00, 100.68it/s]\n",
      "Epoch 52: 100%|██████████| 5/5 [00:00<00:00, 99.24it/s]\n",
      "Epoch 53: 100%|██████████| 5/5 [00:00<00:00, 99.20it/s]\n",
      "Epoch 54: 100%|██████████| 5/5 [00:00<00:00, 99.05it/s]\n",
      "Epoch 55: 100%|██████████| 5/5 [00:00<00:00, 95.58it/s]\n"
     ]
    },
    {
     "name": "stdout",
     "output_type": "stream",
     "text": [
      "5\n",
      "Train, MAE: 0.6104798316955566, RMSE: 0.869861900806427, MAPE: 5.574652194976807\n",
      "1\n",
      "Valid, MAE: 0.5443271398544312, RMSE: 0.7539838552474976, MAPE: 5.084702014923096\n"
     ]
    },
    {
     "name": "stderr",
     "output_type": "stream",
     "text": [
      "Epoch 56: 100%|██████████| 5/5 [00:00<00:00, 89.45it/s]\n",
      "Epoch 57: 100%|██████████| 5/5 [00:00<00:00, 99.82it/s]\n",
      "Epoch 58: 100%|██████████| 5/5 [00:00<00:00, 103.02it/s]\n",
      "Epoch 59: 100%|██████████| 5/5 [00:00<00:00, 101.19it/s]\n"
     ]
    }
   ],
   "source": [
    "model = model_train(train_loader, valid_loader, settings, device)"
   ],
   "metadata": {
    "collapsed": false,
    "ExecuteTime": {
     "end_time": "2023-08-03T15:56:31.521925696Z",
     "start_time": "2023-08-03T15:56:26.092990278Z"
    }
   }
  },
  {
   "cell_type": "markdown",
   "source": [
    "Get predictions on testing dataset and organize them in a way, so that they can be easily plotted"
   ],
   "metadata": {
    "collapsed": false
   }
  },
  {
   "cell_type": "code",
   "execution_count": 14,
   "outputs": [],
   "source": [
    "model.eval()\n",
    "model.to(device)\n",
    "\n",
    "for i, batch in enumerate(test_loader):\n",
    "    # get predictions from model\n",
    "    # shape -> (batch_size * num_nodes, n_pred/n_hist)\n",
    "    batch = batch.to(device)\n",
    "    with torch.no_grad():\n",
    "        pred = model(batch, device)\n",
    "    truth = batch.y.view(pred.shape)\n",
    "    \n",
    "    # all values have been normalized using the z-score method,\n",
    "    # so they have to be unnormalized again for evaluation\n",
    "    truth = un_z_score(truth, test_loader.dataset.mean,\n",
    "                       test_loader.dataset.std_dev)\n",
    "    pred = un_z_score(pred, test_loader.dataset.mean,\n",
    "                      test_loader.dataset.std_dev)\n",
    "\n",
    "    truth = batch.y.view(pred.shape)\n",
    "    if i == 0:\n",
    "        # initialize collection variable with zeroes on first batch\n",
    "        # shape -> (num_batches, batch_size * num_nodes, n_pred/n_hist)\n",
    "        y_pred = torch.zeros(len(test_loader), test_loader.batch_size * settings[\"N_NODE\"], pred.shape[1])\n",
    "        y_truth = torch.zeros(len(test_loader), test_loader.batch_size * settings[\"N_NODE\"], pred.shape[1])\n",
    "    # append data from current batch to data from other batches \n",
    "    #\n",
    "    # Only append until the true length of the batch in the second dimension in case\n",
    "    # there are less than the max size of possible elements in the batch (can\n",
    "    # only happen on the last batch)\n",
    "    y_pred[i, :pred.shape[0], :] = pred\n",
    "    y_truth[i, :pred.shape[0], :] = truth\n",
    "\n",
    "# reshape into a more readable format \n",
    "# (num_batches, batch_size * num_nodes, n_pred/n_hist) \n",
    "# -> (num_intervals, n_node, n_pred/n_hist)\n",
    "y_pred = y_pred.reshape(len(test_loader) * 50,\n",
    "                        settings[\"N_NODE\"], 9)\n",
    "y_truth = y_truth.reshape(len(test_loader) * 50,\n",
    "                          settings[\"N_NODE\"], 9)\n",
    "\n",
    "# cut off the last elements if there are fewer data points in the data as \n",
    "# maximum batch-size (because they are 0)\n",
    "y_pred = y_pred[:len(test_loader.dataset), :, :]\n",
    "y_truth = y_pred[:len(test_loader.dataset), :, :]\n",
    "\n",
    "y_truth = un_z_score(y_truth, data.mean, data.std_dev)"
   ],
   "metadata": {
    "collapsed": false,
    "ExecuteTime": {
     "end_time": "2023-08-03T15:56:37.528661752Z",
     "start_time": "2023-08-03T15:56:37.519073399Z"
    }
   }
  },
  {
   "cell_type": "markdown",
   "source": [
    "Plot predictions and truth of a random detector"
   ],
   "metadata": {
    "collapsed": false
   }
  },
  {
   "cell_type": "code",
   "execution_count": 50,
   "outputs": [
    {
     "name": "stdout",
     "output_type": "stream",
     "text": [
      "torch.Size([25, 274, 9])\n"
     ]
    },
    {
     "ename": "IndexError",
     "evalue": "index 98 is out of bounds for dimension 0 with size 25",
     "output_type": "error",
     "traceback": [
      "\u001B[0;31m---------------------------------------------------------------------------\u001B[0m",
      "\u001B[0;31mIndexError\u001B[0m                                Traceback (most recent call last)",
      "Cell \u001B[0;32mIn[50], line 15\u001B[0m\n\u001B[1;32m     12\u001B[0m target_edge: sumolib\u001B[38;5;241m.\u001B[39mnet\u001B[38;5;241m.\u001B[39medge\u001B[38;5;241m.\u001B[39mEdge \u001B[38;5;241m=\u001B[39m target_lane\u001B[38;5;241m.\u001B[39mgetEdge()\n\u001B[1;32m     14\u001B[0m \u001B[38;5;28mprint\u001B[39m(y_pred\u001B[38;5;241m.\u001B[39mshape)\n\u001B[0;32m---> 15\u001B[0m s1 \u001B[38;5;241m=\u001B[39m \u001B[43my_pred\u001B[49m\u001B[43m[\u001B[49m\u001B[43m:\u001B[49m\u001B[43m]\u001B[49m\u001B[43m[\u001B[49m\u001B[43mtarget\u001B[49m\u001B[43m]\u001B[49m[\u001B[38;5;241m0\u001B[39m]\n\u001B[1;32m     16\u001B[0m \u001B[38;5;28;01mfor\u001B[39;00m i \u001B[38;5;129;01min\u001B[39;00m \u001B[38;5;28mrange\u001B[39m(\u001B[38;5;241m20\u001B[39m):\n\u001B[1;32m     17\u001B[0m     \u001B[38;5;66;03m#s1.append(y_pred[i][target][0])\u001B[39;00m\n\u001B[1;32m     18\u001B[0m     s2\u001B[38;5;241m.\u001B[39mappend(y_truth[i][target][\u001B[38;5;241m0\u001B[39m])\n",
      "\u001B[0;31mIndexError\u001B[0m: index 98 is out of bounds for dimension 0 with size 25"
     ]
    }
   ],
   "source": [
    "\n",
    "\n",
    "s1 = []\n",
    "s2 = []\n",
    "# get a random node\n",
    "target = random.randint(0, settings[\"N_NODE\"] - 1)\n",
    "#print(core._data.translation.get_order())\n",
    "#target = core._data.translation.get_index(\"98\")\n",
    "\n",
    "# get name of street associated with chosen detector\n",
    "sumo_id = core.get_data().translation.get_detector_id(target)\n",
    "target_lane_id = traci.inductionloop.getLaneID(sumo_id)\n",
    "target_lane: sumolib.net.lane.Lane = core.get_data().net.getLane(target_lane_id)\n",
    "target_edge: sumolib.net.edge.Edge = target_lane.getEdge()\n",
    "\n",
    "for i in range(20):\n",
    "    s1.append(y_pred[i][target][0])\n",
    "    s2.append(y_truth[i][target][0])\n",
    "\n",
    "print(sumo_id)\n",
    "#print(y_pred[:][target])\n",
    "#print(y_truth[:][target])\n",
    "\n",
    "plt.title(target_edge.getName())\n",
    "#plt.figure(figsize=(10,5), dpi=300)\n",
    "plt.plot(range(20), s1, label='pred')\n",
    "plt.plot(range(20), s2, label='truth')\n",
    "plt.xlabel(\"step\")\n",
    "plt.ylabel(\"speed\")\n",
    "plt.legend()\n",
    "plt.show()"
   ],
   "metadata": {
    "collapsed": false,
    "ExecuteTime": {
     "end_time": "2023-08-03T15:58:10.229876957Z",
     "start_time": "2023-08-03T15:58:10.206055303Z"
    }
   }
  }
 ],
 "metadata": {
  "kernelspec": {
   "display_name": "Python 3",
   "language": "python",
   "name": "python3"
  },
  "language_info": {
   "codemirror_mode": {
    "name": "ipython",
    "version": 2
   },
   "file_extension": ".py",
   "mimetype": "text/x-python",
   "name": "python",
   "nbconvert_exporter": "python",
   "pygments_lexer": "ipython2",
   "version": "2.7.6"
  }
 },
 "nbformat": 4,
 "nbformat_minor": 0
}
